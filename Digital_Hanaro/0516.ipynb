{
  "nbformat": 4,
  "nbformat_minor": 0,
  "metadata": {
    "colab": {
      "provenance": [],
      "toc_visible": true
    },
    "kernelspec": {
      "name": "python3",
      "display_name": "Python 3"
    },
    "language_info": {
      "name": "python"
    }
  },
  "cells": [
    {
      "cell_type": "markdown",
      "source": [
        "# 📒문자열, 리스트, 딕셔너리와 관련된 함수 (계속)"
      ],
      "metadata": {
        "id": "5ivFf-Dr5QfE"
      }
    },
    {
      "cell_type": "markdown",
      "source": [
        "### 여러 줄의 문자열 출력 "
      ],
      "metadata": {
        "id": "3FJOApyN5Zta"
      }
    },
    {
      "cell_type": "code",
      "execution_count": null,
      "metadata": {
        "colab": {
          "base_uri": "https://localhost:8080/"
        },
        "id": "f1VNpPAd238-",
        "outputId": "ad6d365e-5297-464d-9f33-a63b2fecd748"
      },
      "outputs": [
        {
          "output_type": "stream",
          "name": "stdout",
          "text": [
            "integer >> 3\n",
            "  입력한 숫자는3입니다\n",
            "  3는 홀수입니다.  \n"
          ]
        }
      ],
      "source": [
        "# 홀수, 짝수 구분하는 프로그램 \n",
        "num = int(input(\"integer >> \"))\n",
        "if num%2 == 0: # 짝\n",
        "  print(\"\"\"\\\n",
        "  입력한 숫자는{}입니다\n",
        "  {}는 짝수입니다.\\\n",
        "  \"\"\".format(num,num))\n",
        "else: #홀\n",
        "  print(\"\"\"\\\n",
        "  입력한 숫자는{}입니다\n",
        "  {}는 홀수입니다.\\\n",
        "  \"\"\".format(num,num))\n"
      ]
    },
    {
      "cell_type": "code",
      "source": [
        "# 홀수, 짝수 구분하는 프로그램 \n",
        "num = int(input(\"integer >> \"))\n",
        "if num%2 == 0: # 짝\n",
        "  print(\"\"\"입력한 숫자는{}입니다.\\n{}는 짝수입니다.\\n\n",
        "  \"\"\".format(num,num))\n",
        "else: #홀\n",
        "  print(\"\"\"입력한 숫자는{}입니다\\n{}는 홀수입니다.\\n\n",
        "  \"\"\".format(num,num))"
      ],
      "metadata": {
        "colab": {
          "base_uri": "https://localhost:8080/"
        },
        "id": "rX1B5bq37-fy",
        "outputId": "13ccbbf9-e87f-4d02-f4d0-9c8001b434a3"
      },
      "execution_count": null,
      "outputs": [
        {
          "output_type": "stream",
          "name": "stdout",
          "text": [
            "integer >> 76\n",
            "입력한 숫자는76입니다.\n",
            "76는 짝수입니다.\n",
            "\n",
            "  \n"
          ]
        }
      ]
    },
    {
      "cell_type": "markdown",
      "source": [
        "## 문자열 연걸 "
      ],
      "metadata": {
        "id": "NfqjdW5u9Zwh"
      }
    },
    {
      "cell_type": "code",
      "source": [
        "print(\"-\".join([\"010\",\"2479\",\"6545\"]))\n",
        "print(\"|\".join([\"010\",\"2479\",\"6545\"]))"
      ],
      "metadata": {
        "colab": {
          "base_uri": "https://localhost:8080/"
        },
        "id": "jgmnbAbX9b2Y",
        "outputId": "a1c12c35-8224-4f8b-8b6d-ca6f48f53ffd"
      },
      "execution_count": null,
      "outputs": [
        {
          "output_type": "stream",
          "name": "stdout",
          "text": [
            "010-2479-6545\n",
            "010|2479|6545\n"
          ]
        }
      ]
    },
    {
      "cell_type": "code",
      "source": [
        "# 홀수, 짝수 구분하는 프로그램 \n",
        "num = int(input(\"integer >> \"))\n",
        "if num%2 == 0: # 짝\n",
        "  print(\"\\n\".join([\"입력한 숫자는{}입니다\",\"{}는 짝수입니다.\"]).format(num,num))\n",
        "else: #홀\n",
        "  print(\"\\n\".join([\"입력한 숫자는{}입니다\",\"{}는 홀수입니다.\"]).format(num,num))"
      ],
      "metadata": {
        "colab": {
          "base_uri": "https://localhost:8080/"
        },
        "id": "IY0croO2-NQg",
        "outputId": "d082c2cd-3e3a-419a-f890-538b5c178293"
      },
      "execution_count": null,
      "outputs": [
        {
          "output_type": "stream",
          "name": "stdout",
          "text": [
            "integer >> 34\n",
            "입력한 숫자는34입니다\n",
            "34는 짝수입니다.\n"
          ]
        }
      ]
    },
    {
      "cell_type": "code",
      "source": [
        "# 소괄호 문자 연결\n",
        "a=(\n",
        "     \"나는\"\n",
        "    \"여름을\"\n",
        "    \"좋아합니다\"\n",
        ")\n",
        "   \n",
        "\n",
        "print(a, type(a))"
      ],
      "metadata": {
        "colab": {
          "base_uri": "https://localhost:8080/"
        },
        "id": "1sHtA6D__SS5",
        "outputId": "2a564d9c-78b2-4559-c5b8-ceba6d10938d"
      },
      "execution_count": null,
      "outputs": [
        {
          "output_type": "stream",
          "name": "stdout",
          "text": [
            "('나는', '여름을', '좋아합니다') <class 'tuple'>\n"
          ]
        }
      ]
    },
    {
      "cell_type": "code",
      "source": [
        "# 소괄호 문자 연결\n",
        "a=(\n",
        "     \"나는 \\n\"\n",
        "    \"여름을 \\n\"\n",
        "    \"좋아합니다\"\n",
        ")\n",
        "   \n",
        "\n",
        "print(a, type(a))\n",
        "a"
      ],
      "metadata": {
        "colab": {
          "base_uri": "https://localhost:8080/",
          "height": 90
        },
        "id": "ROVooK4K_czI",
        "outputId": "a0c856ee-3bdb-4798-90e1-1efff79f6d7f"
      },
      "execution_count": null,
      "outputs": [
        {
          "output_type": "stream",
          "name": "stdout",
          "text": [
            "나는 \n",
            "여름을 \n",
            "좋아합니다 <class 'str'>\n"
          ]
        },
        {
          "output_type": "execute_result",
          "data": {
            "text/plain": [
              "'나는 \\n여름을 \\n좋아합니다'"
            ],
            "application/vnd.google.colaboratory.intrinsic+json": {
              "type": "string"
            }
          },
          "metadata": {},
          "execution_count": 21
        }
      ]
    },
    {
      "cell_type": "code",
      "source": [
        "# 홀수, 짝수 구분하는 프로그램 \n",
        "num = int(input(\"integer >> \"))\n",
        "if num%2 == 0: # 짝\n",
        "  print(\"입력한 숫자는{}입니다.\\n{}는 짝수입니다.\\n\".format(num,num))\n",
        "else: #홀\n",
        "  print(\"입력한 숫자는{}입니다\\n{}는 홀수입니다.\\n\".format(num,num))"
      ],
      "metadata": {
        "colab": {
          "base_uri": "https://localhost:8080/"
        },
        "id": "60X2bkFmA_jo",
        "outputId": "97ddb73b-125c-4f85-98be-830742fe0e75"
      },
      "execution_count": null,
      "outputs": [
        {
          "output_type": "stream",
          "name": "stdout",
          "text": [
            "integer >> 56\n",
            "입력한 숫자는56입니다.\n",
            "56는 짝수입니다.\n",
            "\n"
          ]
        }
      ]
    },
    {
      "cell_type": "markdown",
      "source": [
        "## iterator"
      ],
      "metadata": {
        "id": "8rLyfonBEyuw"
      }
    },
    {
      "cell_type": "code",
      "source": [
        "a = [1,2,3]\n",
        "b = reversed(a)\n",
        "print(b)\n",
        "print(list(b))\n",
        "print(b)\n",
        "print(list(b))\n"
      ],
      "metadata": {
        "colab": {
          "base_uri": "https://localhost:8080/"
        },
        "id": "6J4Ul1mpFCOY",
        "outputId": "7fadca25-85e0-4980-e7b9-4abfd3bcedf6"
      },
      "execution_count": null,
      "outputs": [
        {
          "output_type": "stream",
          "name": "stdout",
          "text": [
            "<list_reverseiterator object at 0x7ffaf91cd600>\n",
            "[3, 2, 1]\n",
            "<list_reverseiterator object at 0x7ffaf91cd600>\n",
            "[]\n"
          ]
        }
      ]
    },
    {
      "cell_type": "code",
      "source": [
        "a = [1,2,3]\n",
        "b = list(reversed(a))\n",
        "print(b)\n",
        "print(list(b))\n",
        "b"
      ],
      "metadata": {
        "colab": {
          "base_uri": "https://localhost:8080/"
        },
        "id": "OEYB1A17FfLJ",
        "outputId": "c78c5ad4-3a66-4012-90d2-abb1bd148b63"
      },
      "execution_count": null,
      "outputs": [
        {
          "output_type": "stream",
          "name": "stdout",
          "text": [
            "[3, 2, 1]\n",
            "[3, 2, 1]\n"
          ]
        },
        {
          "output_type": "execute_result",
          "data": {
            "text/plain": [
              "[3, 2, 1]"
            ]
          },
          "metadata": {},
          "execution_count": 30
        }
      ]
    },
    {
      "cell_type": "code",
      "source": [
        "a = [1,2,3]\n",
        "b =reversed(a)\n",
        "print(next(b))\n",
        "print(next(b))\n",
        "print(next(b))"
      ],
      "metadata": {
        "colab": {
          "base_uri": "https://localhost:8080/"
        },
        "id": "yKEJHOt0F3ov",
        "outputId": "b302070a-a4a3-495d-c4d8-bd077f5b1126"
      },
      "execution_count": null,
      "outputs": [
        {
          "output_type": "stream",
          "name": "stdout",
          "text": [
            "3\n",
            "2\n",
            "1\n"
          ]
        }
      ]
    },
    {
      "cell_type": "markdown",
      "source": [
        "# 📒함수 "
      ],
      "metadata": {
        "id": "xEwKU_vOItMe"
      }
    },
    {
      "cell_type": "markdown",
      "source": [
        "### 사용자 정의함수"
      ],
      "metadata": {
        "id": "PJN7pQKaM-I2"
      }
    },
    {
      "cell_type": "code",
      "source": [
        "def print3times():\n",
        "  print(\"안녕\\n\"*3)\n",
        "\n",
        "print3times()"
      ],
      "metadata": {
        "colab": {
          "base_uri": "https://localhost:8080/"
        },
        "id": "wpVRy6Z-JBuP",
        "outputId": "a0e61ba0-9404-4e07-e8ac-5a97ad82bcdf"
      },
      "execution_count": null,
      "outputs": [
        {
          "output_type": "stream",
          "name": "stdout",
          "text": [
            "안녕\n",
            "안녕\n",
            "안녕\n",
            "\n"
          ]
        }
      ]
    },
    {
      "cell_type": "markdown",
      "source": [
        "### 입력매개변수"
      ],
      "metadata": {
        "id": "HL4pD64_NEWJ"
      }
    },
    {
      "cell_type": "code",
      "source": [
        "# 매개변수 \n",
        "def printNtimes(val, n):\n",
        "  for i in range(n): # n은 반드시 정수 \n",
        "    print(val) # 무슨 값이든 상관 없음 \n",
        "\n",
        "printNtimes(\"헬로우!\", 5)"
      ],
      "metadata": {
        "colab": {
          "base_uri": "https://localhost:8080/"
        },
        "id": "5jxMtObhJhl2",
        "outputId": "65c397cd-2eee-4b72-ec0e-221fde48a159"
      },
      "execution_count": null,
      "outputs": [
        {
          "output_type": "stream",
          "name": "stdout",
          "text": [
            "헬로우!\n",
            "헬로우!\n",
            "헬로우!\n",
            "헬로우!\n",
            "헬로우!\n"
          ]
        }
      ]
    },
    {
      "cell_type": "code",
      "source": [
        "# printNtimes(\"헬로우!\", 5/2) # TypeError: 'float' object cannot be interpreted as an integer"
      ],
      "metadata": {
        "id": "Jyp5XM5sMBU6"
      },
      "execution_count": null,
      "outputs": []
    },
    {
      "cell_type": "code",
      "source": [
        "# TypeError: printNtimes() missing 2 required positional arguments: 'val' and 'n'\n",
        "# printNtimes()printNtimes()"
      ],
      "metadata": {
        "id": "qb18yKSoMHfH"
      },
      "execution_count": null,
      "outputs": []
    },
    {
      "cell_type": "code",
      "source": [
        "printNtimes(3,3)"
      ],
      "metadata": {
        "colab": {
          "base_uri": "https://localhost:8080/"
        },
        "id": "pNvjO1RbMkWs",
        "outputId": "9fb6ce48-86f3-47e6-eedd-f8253e19ef21"
      },
      "execution_count": null,
      "outputs": [
        {
          "output_type": "stream",
          "name": "stdout",
          "text": [
            "3\n",
            "3\n",
            "3\n"
          ]
        }
      ]
    },
    {
      "cell_type": "markdown",
      "source": [
        "### 가변매개변수 \n",
        "- 일반매개함수 뒤에 써야한다. "
      ],
      "metadata": {
        "id": "BRisXfCiM415"
      }
    },
    {
      "cell_type": "code",
      "source": [
        "## 가변매개변수 = 입력할 수 있는 값의 제한이 없음 \n",
        "# 일반 매개변수 뒤에 와야함 \n",
        "def printNtimes(n, *val):\n",
        "  for i in range(n):\n",
        "    for j in val:\n",
        "      print(j)\n",
        "\n",
        "printNtimes(3, \"h\",\"i\",\"!\")\n"
      ],
      "metadata": {
        "colab": {
          "base_uri": "https://localhost:8080/"
        },
        "id": "6KRg-TTqMkUh",
        "outputId": "68d84825-d3e0-476f-e221-2452e14b6268"
      },
      "execution_count": null,
      "outputs": [
        {
          "output_type": "stream",
          "name": "stdout",
          "text": [
            "h\n",
            "i\n",
            "!\n",
            "h\n",
            "i\n",
            "!\n",
            "h\n",
            "i\n",
            "!\n"
          ]
        }
      ]
    },
    {
      "cell_type": "code",
      "source": [
        "def multi_sum(*args): #함수의 매개 변수는 가변 인자 *args로 정의\n",
        "   num = len(args)  \n",
        "   print(\"입력 된 변수 개수 : \", str(num)+\"개\")\n",
        "   print(args)\n",
        "    \n",
        "\n",
        "multi_sum(1,2,3,4,5,6,7) #매개변수(int) 7개\n",
        "multi_sum(5,1,3,2) #매개변수(int) 4개"
      ],
      "metadata": {
        "colab": {
          "base_uri": "https://localhost:8080/"
        },
        "id": "g3YzkZLVMkMX",
        "outputId": "15cf3ec5-e770-4048-f252-77ab25c97791"
      },
      "execution_count": null,
      "outputs": [
        {
          "output_type": "stream",
          "name": "stdout",
          "text": [
            "입력 된 변수 개수 :  7개\n",
            "(1, 2, 3, 4, 5, 6, 7)\n",
            "입력 된 변수 개수 :  4개\n",
            "(5, 1, 3, 2)\n"
          ]
        }
      ]
    },
    {
      "cell_type": "markdown",
      "source": [
        "### 기본매개변수 \n",
        "\n",
        "- 일반매개변수 > 가변매개변수 > 기본매개변수 \n",
        "\n"
      ],
      "metadata": {
        "id": "6v78i01KO6tf"
      }
    },
    {
      "cell_type": "code",
      "source": [
        "# 기본매개변수 = 기본값을 가지는 매개변수 \n",
        "def printNtimes(*val, n=5):\n",
        "  for i in range(n):\n",
        "    for j in val:\n",
        "      print(j)\n",
        "\n",
        "printNtimes( \"헬로우\",\"월드\",\"111!\")\n"
      ],
      "metadata": {
        "colab": {
          "base_uri": "https://localhost:8080/"
        },
        "id": "sNU_yBM2O9bB",
        "outputId": "2f1a8e1a-4460-4293-f678-2a5ef9107213"
      },
      "execution_count": null,
      "outputs": [
        {
          "output_type": "stream",
          "name": "stdout",
          "text": [
            "헬로우\n",
            "월드\n",
            "111!\n",
            "헬로우\n",
            "월드\n",
            "111!\n",
            "헬로우\n",
            "월드\n",
            "111!\n",
            "헬로우\n",
            "월드\n",
            "111!\n",
            "헬로우\n",
            "월드\n",
            "111!\n"
          ]
        }
      ]
    },
    {
      "cell_type": "markdown",
      "source": [
        "### 키워드 매개변수"
      ],
      "metadata": {
        "id": "Z200cIzrTqjd"
      }
    },
    {
      "cell_type": "code",
      "source": [
        "printNtimes( \"헬로우\",\"월드\",\"111!\",n=10)"
      ],
      "metadata": {
        "colab": {
          "base_uri": "https://localhost:8080/"
        },
        "id": "Vwc8JktCPJug",
        "outputId": "f459a83d-4157-4f93-a236-fc53c08ce84a"
      },
      "execution_count": null,
      "outputs": [
        {
          "output_type": "stream",
          "name": "stdout",
          "text": [
            "헬로우\n",
            "월드\n",
            "111!\n",
            "헬로우\n",
            "월드\n",
            "111!\n",
            "헬로우\n",
            "월드\n",
            "111!\n",
            "헬로우\n",
            "월드\n",
            "111!\n",
            "헬로우\n",
            "월드\n",
            "111!\n",
            "헬로우\n",
            "월드\n",
            "111!\n",
            "헬로우\n",
            "월드\n",
            "111!\n",
            "헬로우\n",
            "월드\n",
            "111!\n",
            "헬로우\n",
            "월드\n",
            "111!\n",
            "헬로우\n",
            "월드\n",
            "111!\n"
          ]
        }
      ]
    },
    {
      "cell_type": "code",
      "source": [
        "# 키워드 매개변수를 사용하면 좋은 점 -> 순서 상관 없음 \n",
        "printNtimes( \"헬로우\",\"월드\",\"111!\",n=10)"
      ],
      "metadata": {
        "id": "NZPLn2J2Ti9-"
      },
      "execution_count": null,
      "outputs": []
    },
    {
      "cell_type": "code",
      "source": [
        "def test(a,b=3,c=4):\n",
        "  print(a+b+c)\n",
        "\n",
        "\n",
        "test(10,20,30)\n",
        "test(10)"
      ],
      "metadata": {
        "colab": {
          "base_uri": "https://localhost:8080/"
        },
        "id": "fbmz2QvFT3aI",
        "outputId": "301282a9-036f-4fee-ced4-77f8cfddcb52"
      },
      "execution_count": null,
      "outputs": [
        {
          "output_type": "stream",
          "name": "stdout",
          "text": [
            "60\n",
            "17\n"
          ]
        }
      ]
    },
    {
      "cell_type": "code",
      "source": [
        "test(c=10,b=20,a=30)\n",
        "test(10,20)"
      ],
      "metadata": {
        "id": "sgs6ZOkZT3T2",
        "colab": {
          "base_uri": "https://localhost:8080/"
        },
        "outputId": "0a348aa1-94b7-4f39-a774-4d0e72cd3590"
      },
      "execution_count": null,
      "outputs": [
        {
          "output_type": "stream",
          "name": "stdout",
          "text": [
            "53\n",
            "33\n"
          ]
        }
      ]
    },
    {
      "cell_type": "code",
      "source": [
        "#2)키워드 매개변수로 입력 \n",
        "test(a=2)"
      ],
      "metadata": {
        "id": "xzlDzfkLT3MW",
        "colab": {
          "base_uri": "https://localhost:8080/"
        },
        "outputId": "a924753c-9cdd-44e9-8ea9-d1c71e843ea9"
      },
      "execution_count": null,
      "outputs": [
        {
          "output_type": "stream",
          "name": "stdout",
          "text": [
            "9\n"
          ]
        }
      ]
    },
    {
      "cell_type": "code",
      "source": [
        "#3) 키워드 매개변수 순서를 바꿔서 입력 \n",
        "test(c=20,b=10,a=30)"
      ],
      "metadata": {
        "id": "L-ThtBRFT3F1",
        "colab": {
          "base_uri": "https://localhost:8080/"
        },
        "outputId": "fa41ec87-23bb-4f00-cccf-9e0f815fa658"
      },
      "execution_count": null,
      "outputs": [
        {
          "output_type": "stream",
          "name": "stdout",
          "text": [
            "60\n"
          ]
        }
      ]
    },
    {
      "cell_type": "code",
      "source": [
        "#4) 키워드 매개변수 일부만 사용 \n",
        "test(10,c=60)"
      ],
      "metadata": {
        "colab": {
          "base_uri": "https://localhost:8080/"
        },
        "id": "GWIVmKHhWP4p",
        "outputId": "fc0268f2-e91b-4fc1-dc6b-8eac8d2b1be0"
      },
      "execution_count": null,
      "outputs": [
        {
          "output_type": "stream",
          "name": "stdout",
          "text": [
            "73\n"
          ]
        }
      ]
    },
    {
      "cell_type": "code",
      "source": [
        "def print_hello(to1, to2='info', *tos, **ktos):\n",
        "    print('hello', to1)\n",
        "    print('hello', to2)\n",
        "    for to in tos:\n",
        "        print('hello', to)\n",
        "    for k in ktos:\n",
        "      print('hello', ktos[k])"
      ],
      "metadata": {
        "id": "uUfMz_Glaotz"
      },
      "execution_count": null,
      "outputs": []
    },
    {
      "cell_type": "code",
      "source": [
        "print_hello('data')"
      ],
      "metadata": {
        "colab": {
          "base_uri": "https://localhost:8080/"
        },
        "id": "HT3PpZQLaqCC",
        "outputId": "01de56fe-10e9-415f-f5dc-0472aeec64c9"
      },
      "execution_count": null,
      "outputs": [
        {
          "output_type": "stream",
          "name": "stdout",
          "text": [
            "hello data\n",
            "hello info\n"
          ]
        }
      ]
    },
    {
      "cell_type": "code",
      "source": [
        "print_hello('data', 'info00') "
      ],
      "metadata": {
        "colab": {
          "base_uri": "https://localhost:8080/"
        },
        "id": "Ymw7yuW8auPV",
        "outputId": "76d81f7c-d50d-4a93-92f5-2f141d8b904e"
      },
      "execution_count": null,
      "outputs": [
        {
          "output_type": "stream",
          "name": "stdout",
          "text": [
            "hello data\n",
            "hello info00\n"
          ]
        }
      ]
    },
    {
      "cell_type": "code",
      "source": [
        "print_hello('data', 'info', 'machine') "
      ],
      "metadata": {
        "colab": {
          "base_uri": "https://localhost:8080/"
        },
        "id": "8Yo3dQEgauNS",
        "outputId": "953977dc-aaa5-438f-a79b-78d5297bc680"
      },
      "execution_count": null,
      "outputs": [
        {
          "output_type": "stream",
          "name": "stdout",
          "text": [
            "hello data\n",
            "hello info\n",
            "hello machine\n"
          ]
        }
      ]
    },
    {
      "cell_type": "code",
      "source": [
        "print_hello('data', 'info', 'machine', 'learning') "
      ],
      "metadata": {
        "colab": {
          "base_uri": "https://localhost:8080/"
        },
        "id": "gC4bU9ylauLS",
        "outputId": "063deb68-c5b4-4242-c964-0f6f17169030"
      },
      "execution_count": null,
      "outputs": [
        {
          "output_type": "stream",
          "name": "stdout",
          "text": [
            "hello data\n",
            "hello info\n",
            "hello machine\n",
            "hello learning\n"
          ]
        }
      ]
    },
    {
      "cell_type": "code",
      "source": [
        "print_hello('data', 'info', 'machine', 'learning', to5='deep') "
      ],
      "metadata": {
        "colab": {
          "base_uri": "https://localhost:8080/"
        },
        "id": "4bUs4cj9auBC",
        "outputId": "6601f20f-14f6-4a45-fafa-50c09b26ebe7"
      },
      "execution_count": null,
      "outputs": [
        {
          "output_type": "stream",
          "name": "stdout",
          "text": [
            "hello data\n",
            "hello info\n",
            "hello machine\n",
            "hello learning\n",
            "hello deep\n"
          ]
        }
      ]
    },
    {
      "cell_type": "code",
      "source": [
        "print_hello('data', 'info', 'machine', 'learning', to5='deep', to6='learning') "
      ],
      "metadata": {
        "colab": {
          "base_uri": "https://localhost:8080/"
        },
        "id": "Sjjwwlq4a1Jz",
        "outputId": "e5a8281c-f575-4c09-abd9-a180503456e7"
      },
      "execution_count": null,
      "outputs": [
        {
          "output_type": "stream",
          "name": "stdout",
          "text": [
            "hello data\n",
            "hello info\n",
            "hello machine\n",
            "hello learning\n",
            "hello deep\n",
            "hello learning\n"
          ]
        }
      ]
    },
    {
      "cell_type": "markdown",
      "source": [
        "## 리턴 "
      ],
      "metadata": {
        "id": "HoXXI8HFXtjD"
      }
    },
    {
      "cell_type": "code",
      "source": [
        "# 리턴 = 반환값, 리턴값 = 함수 적용 결과 \n",
        "def returnTest():\n",
        "  print(\"a\")\n",
        "  return \n",
        "  print(\"b\")\n",
        "\n",
        "\n",
        "returnTest()"
      ],
      "metadata": {
        "colab": {
          "base_uri": "https://localhost:8080/"
        },
        "id": "VAGXCF-0XtBT",
        "outputId": "d2374e02-017b-4a33-e27f-fb3e1f91ff20"
      },
      "execution_count": null,
      "outputs": [
        {
          "output_type": "stream",
          "name": "stdout",
          "text": [
            "a\n"
          ]
        }
      ]
    },
    {
      "cell_type": "code",
      "source": [
        "# 가장 일반적인 방식\n",
        "def returndef():\n",
        "  return 2+3\n",
        "returndef()"
      ],
      "metadata": {
        "colab": {
          "base_uri": "https://localhost:8080/"
        },
        "id": "C-r0gpVVZupz",
        "outputId": "2739b09f-18a1-4110-ca5e-7d123c9add44"
      },
      "execution_count": null,
      "outputs": [
        {
          "output_type": "execute_result",
          "data": {
            "text/plain": [
              "5"
            ]
          },
          "metadata": {},
          "execution_count": 81
        }
      ]
    },
    {
      "cell_type": "code",
      "source": [
        "# 2 자료와 함께 리턴 \n",
        "def returnTest():\n",
        "  return True \n",
        "\n",
        "returnTest()"
      ],
      "metadata": {
        "colab": {
          "base_uri": "https://localhost:8080/"
        },
        "id": "xlWNWk0JYUN0",
        "outputId": "72701c28-3d7c-4b9d-a5ce-07b632233ca3"
      },
      "execution_count": null,
      "outputs": [
        {
          "output_type": "execute_result",
          "data": {
            "text/plain": [
              "True"
            ]
          },
          "metadata": {},
          "execution_count": 68
        }
      ]
    },
    {
      "cell_type": "code",
      "source": [
        "# 3 None 리턴 \n",
        "def returnTest():\n",
        "  return \n",
        "print(returnTest())"
      ],
      "metadata": {
        "colab": {
          "base_uri": "https://localhost:8080/"
        },
        "id": "I04iE9tuZPQE",
        "outputId": "06b5aea8-9a23-498e-b67e-5fe2f2eef487"
      },
      "execution_count": null,
      "outputs": [
        {
          "output_type": "stream",
          "name": "stdout",
          "text": [
            "None\n"
          ]
        }
      ]
    },
    {
      "cell_type": "markdown",
      "source": [
        "### 입력한 값을 모두 더하는 함수 "
      ],
      "metadata": {
        "id": "AVacZly9Z3P7"
      }
    },
    {
      "cell_type": "code",
      "source": [
        "#일반매개변수\n",
        "def sum_all(start,end):\n",
        "  output=0\n",
        "  for i in range(start,end+1):\n",
        "    output+=i\n",
        "  return output\n"
      ],
      "metadata": {
        "colab": {
          "base_uri": "https://localhost:8080/"
        },
        "id": "4giw6GtIZ68b",
        "outputId": "0f58c51c-77f5-4dd3-b865-270630e86bb4"
      },
      "execution_count": null,
      "outputs": [
        {
          "output_type": "execute_result",
          "data": {
            "text/plain": [
              "55"
            ]
          },
          "metadata": {},
          "execution_count": 90
        }
      ]
    },
    {
      "cell_type": "code",
      "source": [
        "sum_all(1,10)"
      ],
      "metadata": {
        "id": "CJ_2AMQHbuzR"
      },
      "execution_count": null,
      "outputs": []
    },
    {
      "cell_type": "code",
      "source": [
        "sum_all(end = 12,start = 10)"
      ],
      "metadata": {
        "colab": {
          "base_uri": "https://localhost:8080/"
        },
        "id": "ibMK1oada5zb",
        "outputId": "d40a2bf0-c61b-4fd4-b1b3-b1b8145fe4db"
      },
      "execution_count": null,
      "outputs": [
        {
          "output_type": "execute_result",
          "data": {
            "text/plain": [
              "33"
            ]
          },
          "metadata": {},
          "execution_count": 91
        }
      ]
    },
    {
      "cell_type": "code",
      "source": [
        "#기본매개변수\n",
        "def sum_all(start=1,end=10,step=2):\n",
        "  output=0\n",
        "  for i in range(start,end+1,step):\n",
        "    output+=i\n",
        "  return output\n"
      ],
      "metadata": {
        "id": "Rq4dTEsAbyjR"
      },
      "execution_count": null,
      "outputs": []
    },
    {
      "cell_type": "code",
      "source": [],
      "metadata": {
        "id": "pViMyefzdBmR"
      },
      "execution_count": null,
      "outputs": []
    },
    {
      "cell_type": "code",
      "source": [
        "sum_all()"
      ],
      "metadata": {
        "colab": {
          "base_uri": "https://localhost:8080/"
        },
        "id": "Sk1R9TpycaAK",
        "outputId": "c02de473-b343-413d-9df6-47c35e2d71b5"
      },
      "execution_count": null,
      "outputs": [
        {
          "output_type": "execute_result",
          "data": {
            "text/plain": [
              "25"
            ]
          },
          "metadata": {},
          "execution_count": 111
        }
      ]
    },
    {
      "cell_type": "code",
      "source": [
        "# 일반 매개변수로 사용 = 순서대로 \n",
        "sum_all(3,9,2)"
      ],
      "metadata": {
        "colab": {
          "base_uri": "https://localhost:8080/"
        },
        "id": "zg4XJ33Tcdu6",
        "outputId": "a41b525b-39ba-4cb8-efe6-d513b82922b5"
      },
      "execution_count": null,
      "outputs": [
        {
          "output_type": "execute_result",
          "data": {
            "text/plain": [
              "24"
            ]
          },
          "metadata": {},
          "execution_count": 112
        }
      ]
    },
    {
      "cell_type": "code",
      "source": [
        "#키워드 매개변수로 사용 = 순서 상관 없음\n",
        "sum_all(step=4,start=10,end=40)\n"
      ],
      "metadata": {
        "colab": {
          "base_uri": "https://localhost:8080/"
        },
        "id": "N_bzip86cBV6",
        "outputId": "a87f5e46-3c81-4fa9-96ca-309874681d55"
      },
      "execution_count": null,
      "outputs": [
        {
          "output_type": "execute_result",
          "data": {
            "text/plain": [
              "192"
            ]
          },
          "metadata": {},
          "execution_count": 115
        }
      ]
    },
    {
      "cell_type": "code",
      "source": [
        "sum_all(start=10,end=20)"
      ],
      "metadata": {
        "colab": {
          "base_uri": "https://localhost:8080/"
        },
        "id": "QhXh7BXXcygT",
        "outputId": "7eb79f49-2d8f-4741-99ce-f4d74b77d8c3"
      },
      "execution_count": null,
      "outputs": [
        {
          "output_type": "execute_result",
          "data": {
            "text/plain": [
              "90"
            ]
          },
          "metadata": {},
          "execution_count": 114
        }
      ]
    },
    {
      "cell_type": "code",
      "source": [
        "# sum_all(start=10,end=20,3) #SyntaxError: positional argument follows keyword argument"
      ],
      "metadata": {
        "id": "fgXrFtQydSQi"
      },
      "execution_count": null,
      "outputs": []
    },
    {
      "cell_type": "code",
      "source": [
        "# 키워드 매개변수 일부만 사용 \n",
        "sum_all(start=1, step=3)"
      ],
      "metadata": {
        "colab": {
          "base_uri": "https://localhost:8080/"
        },
        "id": "GiX5NTXWc1e7",
        "outputId": "9bb5fd23-8367-4e0a-db0c-8efc05bc6114"
      },
      "execution_count": null,
      "outputs": [
        {
          "output_type": "execute_result",
          "data": {
            "text/plain": [
              "22"
            ]
          },
          "metadata": {},
          "execution_count": 116
        }
      ]
    },
    {
      "cell_type": "markdown",
      "source": [
        "# 📒함수의 활용"
      ],
      "metadata": {
        "id": "opCTQeWCvUWY"
      }
    },
    {
      "cell_type": "markdown",
      "source": [
        "## 재귀함수"
      ],
      "metadata": {
        "id": "jXVLU5XEvaSW"
      }
    },
    {
      "cell_type": "code",
      "source": [
        "# 팩토리얼\n",
        "# 반복문으로 구현 \n",
        "def fac(n):\n",
        "  output = 1\n",
        "  for i in range(1,n+1):\n",
        "    output *= i\n",
        "  return output\n",
        "\n",
        "fac(5)"
      ],
      "metadata": {
        "colab": {
          "base_uri": "https://localhost:8080/"
        },
        "id": "vEXn-bRivdKk",
        "outputId": "79e27e65-9bd9-43cc-f03e-0b5d20b5db3d"
      },
      "execution_count": null,
      "outputs": [
        {
          "output_type": "execute_result",
          "data": {
            "text/plain": [
              "120"
            ]
          },
          "metadata": {},
          "execution_count": 120
        }
      ]
    },
    {
      "cell_type": "code",
      "source": [
        "# 팩토리얼\n",
        "# 반복문으로 구현 \n",
        "def fac(n):\n",
        "  output = 1\n",
        "  for i in range(n,0,-1):\n",
        "    output *= i\n",
        "  return output\n",
        "\n",
        "fac(5)"
      ],
      "metadata": {
        "colab": {
          "base_uri": "https://localhost:8080/"
        },
        "id": "Z-8FIe-KvdIO",
        "outputId": "3f8dc24c-51f9-4b8c-fe75-d7051779bebe"
      },
      "execution_count": null,
      "outputs": [
        {
          "output_type": "execute_result",
          "data": {
            "text/plain": [
              "120"
            ]
          },
          "metadata": {},
          "execution_count": 121
        }
      ]
    },
    {
      "cell_type": "code",
      "source": [
        "# 재귀함수 \n",
        "def fac(n):\n",
        "  if n==0:\n",
        "    return 1\n",
        "  else: return n*fac(n-1)\n",
        "\n",
        "fac(5)"
      ],
      "metadata": {
        "colab": {
          "base_uri": "https://localhost:8080/"
        },
        "id": "HkRQ88HIvdGW",
        "outputId": "354a86d5-e41b-4b5d-95dd-64775c3c5ec5"
      },
      "execution_count": null,
      "outputs": [
        {
          "output_type": "execute_result",
          "data": {
            "text/plain": [
              "120"
            ]
          },
          "metadata": {},
          "execution_count": 123
        }
      ]
    },
    {
      "cell_type": "code",
      "source": [
        "# 재귀함수 예시2\n",
        "def recursive_call(x):\n",
        "    print(x)\n",
        "    if x<10:\n",
        "      recursive_call(x+1)\n",
        "    \n",
        "    \n",
        "recursive_call(1)"
      ],
      "metadata": {
        "colab": {
          "base_uri": "https://localhost:8080/"
        },
        "id": "JIVaik_yvdEd",
        "outputId": "20ea8c19-a274-4e22-9976-8632446c21c2"
      },
      "execution_count": null,
      "outputs": [
        {
          "output_type": "stream",
          "name": "stdout",
          "text": [
            "1\n",
            "2\n",
            "3\n",
            "4\n",
            "5\n",
            "6\n",
            "7\n",
            "8\n",
            "9\n",
            "10\n"
          ]
        }
      ]
    },
    {
      "cell_type": "markdown",
      "source": [
        "## 피보나치 수열 "
      ],
      "metadata": {
        "id": "IFo3kfvU19He"
      }
    },
    {
      "cell_type": "code",
      "source": [
        "def fib(n):\n",
        "  if n == 0:\n",
        "    return 0\n",
        "  elif n == 1 or n == 2:\n",
        "    return 1\n",
        "  else:\n",
        "    return fib(n - 1) + fib(n - 2)\n",
        "\n",
        "fib(10)"
      ],
      "metadata": {
        "colab": {
          "base_uri": "https://localhost:8080/"
        },
        "id": "77fjyV4yvdCY",
        "outputId": "1fde5f46-ca08-4f09-ed9b-9aa1ba2dcf09"
      },
      "execution_count": null,
      "outputs": [
        {
          "output_type": "execute_result",
          "data": {
            "text/plain": [
              "55"
            ]
          },
          "metadata": {},
          "execution_count": 134
        }
      ]
    },
    {
      "cell_type": "code",
      "source": [
        "for i in range(11):\n",
        "  print(fib(i))"
      ],
      "metadata": {
        "colab": {
          "base_uri": "https://localhost:8080/"
        },
        "id": "hbJ_-Au2vdAG",
        "outputId": "6c1e3263-b268-4e37-c95e-51094e388bf1"
      },
      "execution_count": null,
      "outputs": [
        {
          "output_type": "stream",
          "name": "stdout",
          "text": [
            "0\n",
            "1\n",
            "1\n",
            "2\n",
            "3\n",
            "5\n",
            "8\n",
            "13\n",
            "21\n",
            "34\n",
            "55\n"
          ]
        }
      ]
    },
    {
      "cell_type": "code",
      "source": [
        "# 시간이 너무 오래 걸림 \n",
        "print(fib(5))"
      ],
      "metadata": {
        "id": "RE8aVfcr3xlk",
        "colab": {
          "base_uri": "https://localhost:8080/"
        },
        "outputId": "54357065-8047-46eb-a1a0-c1363cc5f2ab"
      },
      "execution_count": null,
      "outputs": [
        {
          "output_type": "stream",
          "name": "stdout",
          "text": [
            "5\n"
          ]
        }
      ]
    },
    {
      "cell_type": "code",
      "source": [
        "# 재귀함수 사용 횟수 계산  \n",
        "cnt=0 \n",
        "def fib(n):\n",
        "  global cnt\n",
        "  cnt+=1\n",
        "  if n == 0:\n",
        "    return 0\n",
        "  elif n == 1 or n == 2:\n",
        "    return 1\n",
        "  else:\n",
        "    return fib(n - 1) + fib(n - 2)\n",
        "\n",
        "print(fib(10))\n",
        "print(cnt)\n"
      ],
      "metadata": {
        "colab": {
          "base_uri": "https://localhost:8080/"
        },
        "id": "sSuKy3O88aFS",
        "outputId": "2866d534-07a2-43e5-8629-49e253177443"
      },
      "execution_count": null,
      "outputs": [
        {
          "output_type": "stream",
          "name": "stdout",
          "text": [
            "55\n",
            "109\n"
          ]
        }
      ]
    },
    {
      "cell_type": "markdown",
      "source": [
        "## 메모화"
      ],
      "metadata": {
        "id": "36LreyKVCvEY"
      }
    },
    {
      "cell_type": "code",
      "source": [
        "# 재귀함수 사용 횟수 계산  \n",
        "f_dic={1:1,2:1}\n",
        "\n",
        "def fib(n): # 딕셔너리의 키 \n",
        "  if n in f_dic:\n",
        "    return f_dic[n]   # f_dic[n]: value : 존재하는 키의 val을 가져오는 경우 \n",
        "\n",
        "  output = fib(n - 1) + fib(n - 2) \n",
        "  f_dic[n] = output # 존재하지 않는 키에 대한 val을 가져옴 \n",
        "  return output \n",
        "\n",
        "fib(50)"
      ],
      "metadata": {
        "colab": {
          "base_uri": "https://localhost:8080/"
        },
        "id": "5W4Su21t9r77",
        "outputId": "153f0bbc-139a-42de-bb60-0b578253c431"
      },
      "execution_count": null,
      "outputs": [
        {
          "output_type": "execute_result",
          "data": {
            "text/plain": [
              "12586269025"
            ]
          },
          "metadata": {},
          "execution_count": 158
        }
      ]
    },
    {
      "cell_type": "markdown",
      "source": [
        "### 리스트 평탄화 \n",
        "1. 2차원 리스트 반복문 2번 사용해서 평탄화\n",
        "2. 실제로 중괄호가 몇 번 나올지 모름 \n",
        "3. 재귀함수로 해결 가능 "
      ],
      "metadata": {
        "id": "sU6YUnv8FXSN"
      }
    },
    {
      "cell_type": "code",
      "source": [
        "a = [0,[1,2,3],[4,5,[6,7,8,[9,10]]],[11,12,13],14]\n",
        "def flat(data):\n",
        "  blankList = []\n",
        "  for i in data: # 반복 \n",
        "    if type(i)==list: # 리스트인 경우 \n",
        "      blankList += flat(i) # 리스트가 아닐때까지 반복 \n",
        "    else: # 요소인 경우 \n",
        "      blankList += [i] # 요소 추가 \n",
        "  return blankList\n",
        "\n",
        "flat(a)\n"
      ],
      "metadata": {
        "colab": {
          "base_uri": "https://localhost:8080/"
        },
        "id": "wCtxmEscFW_u",
        "outputId": "1fafbea7-c051-421c-fe50-477bcfa7e766"
      },
      "execution_count": null,
      "outputs": [
        {
          "output_type": "execute_result",
          "data": {
            "text/plain": [
              "[0, 1, 2, 3, 4, 5, 6, 7, 8, 9, 10, 11, 12, 13, 14]"
            ]
          },
          "metadata": {},
          "execution_count": 169
        }
      ]
    },
    {
      "cell_type": "code",
      "source": [
        "a = [0,[1,2,3],[4,5,[6,7,8,[9,10]]],[11,12,13],14]\n",
        "def flat(data):\n",
        "  blankList = []\n",
        "  for i in data: # 반복 \n",
        "    if type(i)==list: # 리스트인 경우 \n",
        "      blankList += flat(i) # 리스트가 아닐때까지 반복 \n",
        "    else: # 요소인 경우 \n",
        "      blankList.append(i) # 요소 추가 \n",
        "  return blankList\n",
        "\n",
        "flat(a)\n"
      ],
      "metadata": {
        "colab": {
          "base_uri": "https://localhost:8080/"
        },
        "id": "SAAWGd57MTrj",
        "outputId": "06e213f3-e554-4c3f-9927-5b2685f78185"
      },
      "execution_count": null,
      "outputs": [
        {
          "output_type": "execute_result",
          "data": {
            "text/plain": [
              "[0, 1, 2, 3, 4, 5, 6, 7, 8, 9, 10, 11, 12, 13, 14]"
            ]
          },
          "metadata": {},
          "execution_count": 180
        }
      ]
    },
    {
      "cell_type": "code",
      "source": [
        "for i in a:\n",
        "  print(i)\n",
        "# 0   -> 요소 추가 \n",
        "# [1, 2, 3] -> flat([1,2,3]) -> 1,2,3 요소 추가 \n",
        "# [4, 5, [6, 7, 8, [9, 10]]] -> flat([4, 5, [6, 7, 8, [9, 10]]] ) -> 4,5 요소 추가 , flat([6, 7, 8, [9, 10]]]) -> 6,7,8 요소 추가 , flat([9,10])-> 9,10 요소 추가 \n",
        "# [11, 12, 13]->  flat([11, 12, 13]) -> 11, 12, 13 요소 추가 \n",
        "# 14  -> 요소 추가 \n",
        "\n",
        "print(\"<--- 재귀 + 리스트 평탄화---> \")\n",
        "print(\n",
        " \"\"\"0  -> 요소 추가 /n[1, 2, 3] -> flat([1,2,3]) -> 1,2,3 요소 추가 \n",
        "[4, 5, [6, 7, 8, [9, 10]]] -> flat([4, 5, [6, 7, 8, [9, 10]]] ) -> 4,5 요소 추가 , flat([6, 7, 8, [9, 10]]]) -> 6,7,8 요소 추가 , flat([9,10])-> 9,10 요소 추가 \n",
        "[11, 12, 13]->  flat([11, 12, 13]) -> 11, 12, 13 요소 추가 \n",
        "14  -> 요소 추가 \"\"\"\n",
        ")\n"
      ],
      "metadata": {
        "colab": {
          "base_uri": "https://localhost:8080/"
        },
        "id": "K06XDgBS9r0Z",
        "outputId": "ae3cd16c-92c5-4359-823d-951297b519c6"
      },
      "execution_count": null,
      "outputs": [
        {
          "output_type": "stream",
          "name": "stdout",
          "text": [
            "0\n",
            "[1, 2, 3]\n",
            "[4, 5, [6, 7, 8, [9, 10]]]\n",
            "[11, 12, 13]\n",
            "14\n",
            "<--- 재귀 + 리스트 평탄화---> \n",
            "0  -> 요소 추가 /n[1, 2, 3] -> flat([1,2,3]) -> 1,2,3 요소 추가 \n",
            "[4, 5, [6, 7, 8, [9, 10]]] -> flat([4, 5, [6, 7, 8, [9, 10]]] ) -> 4,5 요소 추가 , flat([6, 7, 8, [9, 10]]]) -> 6,7,8 요소 추가 , flat([9,10])-> 9,10 요소 추가 \n",
            "[11, 12, 13]->  flat([11, 12, 13]) -> 11, 12, 13 요소 추가 \n",
            "14  -> 요소 추가 \n"
          ]
        }
      ]
    },
    {
      "cell_type": "markdown",
      "source": [
        "# 📒튜플 "
      ],
      "metadata": {
        "id": "sLb671t8Q3Pz"
      }
    },
    {
      "cell_type": "markdown",
      "source": [
        "### 튜플 생성 "
      ],
      "metadata": {
        "id": "MrdnzLKsRbjF"
      }
    },
    {
      "cell_type": "code",
      "source": [
        "# 튜플 생성 \n",
        "list1 = [1,2,3]\n",
        "tuple1 = (1,2,3)\n",
        "\n",
        "print(\"list:\", list1,type(list1) ,\"\\ntuple:\",tuple1, type(tuple1))"
      ],
      "metadata": {
        "colab": {
          "base_uri": "https://localhost:8080/"
        },
        "id": "gNkBj9NVLN4o",
        "outputId": "47021a74-3af5-4066-a35a-4fd2c4407cfe"
      },
      "execution_count": null,
      "outputs": [
        {
          "output_type": "stream",
          "name": "stdout",
          "text": [
            "list: [1, 2, 3] <class 'list'> \n",
            "tuple: (1, 2, 3) <class 'tuple'>\n"
          ]
        }
      ]
    },
    {
      "cell_type": "markdown",
      "source": [
        "### 튜플 인덱스(싱)"
      ],
      "metadata": {
        "id": "xyJaYTDoRdvC"
      }
    },
    {
      "cell_type": "code",
      "source": [
        "for i in range(len(list1)):\n",
        "  print(list1[i], end=\"_\")\n",
        "\n",
        "print()\n",
        "\n",
        "\n",
        "for i in range(len(tuple1)):\n",
        "  print(tuple1[i], end=\"_ \")"
      ],
      "metadata": {
        "colab": {
          "base_uri": "https://localhost:8080/"
        },
        "id": "QJaOc4EsLN1u",
        "outputId": "cd9a17b5-993e-48da-9f22-0df9583dcd06"
      },
      "execution_count": null,
      "outputs": [
        {
          "output_type": "stream",
          "name": "stdout",
          "text": [
            "1_2_3_\n",
            "1_ 2_ 3_ "
          ]
        }
      ]
    },
    {
      "cell_type": "code",
      "source": [
        "list1[2]=10\n",
        "list1"
      ],
      "metadata": {
        "colab": {
          "base_uri": "https://localhost:8080/"
        },
        "id": "zCMyJKktLNyp",
        "outputId": "6cb3364e-423c-431b-eb90-c86c0b9129b5"
      },
      "execution_count": null,
      "outputs": [
        {
          "output_type": "execute_result",
          "data": {
            "text/plain": [
              "[1, 2, 10]"
            ]
          },
          "metadata": {},
          "execution_count": 191
        }
      ]
    },
    {
      "cell_type": "code",
      "source": [
        "# 튜플은 요소 변경 불가 \n",
        "# TypeError: 'tuple' object does not support item assignment\n",
        "# tuple1[2]=10\n",
        "# tuple1"
      ],
      "metadata": {
        "id": "ixKSV_ToLNwD"
      },
      "execution_count": null,
      "outputs": []
    },
    {
      "cell_type": "code",
      "source": [
        "# 소괄호 없이 튜플 생성 \n",
        "tuple2 = 1,2,3\n",
        "print(tuple2)\n",
        "print(type(tuple2))"
      ],
      "metadata": {
        "colab": {
          "base_uri": "https://localhost:8080/"
        },
        "id": "aNLGQbnWLNtj",
        "outputId": "0f04a8d1-2493-4158-d1f9-c20eb5c3cdf9"
      },
      "execution_count": null,
      "outputs": [
        {
          "output_type": "stream",
          "name": "stdout",
          "text": [
            "(1, 2, 3)\n",
            "<class 'tuple'>\n"
          ]
        }
      ]
    },
    {
      "cell_type": "code",
      "source": [
        "# 여러 변수를 한 번에 할당하는 방법 , 리스트, 튜플과는 전혀 관계없다\n",
        "# a=1\n",
        "# b=2\n",
        "# c=3\n",
        "# d=4  이렇게 할당하는 것은 불편하다! 하지 말 것 \n",
        "\n",
        "\n",
        "[a,b] = [1,2]\n",
        "(c,d) = (3,4)\n",
        "print(a,b,c,d)\n",
        "print(type(a), type(b),type(c),type(d))\n"
      ],
      "metadata": {
        "colab": {
          "base_uri": "https://localhost:8080/"
        },
        "id": "XBcZPuVWTANQ",
        "outputId": "dc7e1eae-7db1-48a4-9c1c-61a882cf7abf"
      },
      "execution_count": null,
      "outputs": [
        {
          "output_type": "stream",
          "name": "stdout",
          "text": [
            "1 2 3 4\n",
            "<class 'int'> <class 'int'> <class 'int'> <class 'int'>\n"
          ]
        }
      ]
    },
    {
      "cell_type": "code",
      "source": [
        "# 소괄호 없이 여러 변수에 값 할당 \n",
        "a,b,c = 1,2,3\n",
        "print(a,b,c)\n",
        "print(type(a), type(b), type(c))"
      ],
      "metadata": {
        "colab": {
          "base_uri": "https://localhost:8080/"
        },
        "id": "fOrFrFYH9ryL",
        "outputId": "002f7e4f-30db-4d7b-da7c-bd07c01932e7"
      },
      "execution_count": null,
      "outputs": [
        {
          "output_type": "stream",
          "name": "stdout",
          "text": [
            "1 2 3\n",
            "<class 'int'> <class 'int'> <class 'int'>\n"
          ]
        }
      ]
    },
    {
      "cell_type": "markdown",
      "source": [
        "## 값의 교환 "
      ],
      "metadata": {
        "id": "gRZSsfbdYt-9"
      }
    },
    {
      "cell_type": "code",
      "source": [
        "a = 1\n",
        "b = 2\n",
        "print(a,b)\n",
        "c = a\n",
        "a = b\n",
        "b = c\n",
        "print(a,b)"
      ],
      "metadata": {
        "colab": {
          "base_uri": "https://localhost:8080/"
        },
        "id": "8fSeZFniYtWW",
        "outputId": "a85f7013-85c2-4158-92b9-f5c2cfd12e16"
      },
      "execution_count": null,
      "outputs": [
        {
          "output_type": "stream",
          "name": "stdout",
          "text": [
            "1 2\n",
            "2 1\n"
          ]
        }
      ]
    },
    {
      "cell_type": "code",
      "source": [
        "a,b = 1,2\n",
        "print(a,b)\n",
        "a,b = b,a \n",
        "print(a,b)"
      ],
      "metadata": {
        "colab": {
          "base_uri": "https://localhost:8080/"
        },
        "id": "OgqX479GZHLC",
        "outputId": "6036f8c4-46ed-4c72-8fd4-578954419d41"
      },
      "execution_count": null,
      "outputs": [
        {
          "output_type": "stream",
          "name": "stdout",
          "text": [
            "1 2\n",
            "2 1\n"
          ]
        }
      ]
    },
    {
      "cell_type": "markdown",
      "source": [
        "## 튜플 & 함수 같이 사용하기 "
      ],
      "metadata": {
        "id": "e0nXL2Q-anuu"
      }
    },
    {
      "cell_type": "code",
      "source": [
        "# 튜플 형태로 리턴하는 사용자 정의 함수 만들기 \n",
        "def test():\n",
        "  return (1,2)\n",
        "\n",
        "\n",
        "a,b = test()   # a,b = (1,2)\n",
        "print(a,b)"
      ],
      "metadata": {
        "colab": {
          "base_uri": "https://localhost:8080/"
        },
        "id": "35nz-1vLanFr",
        "outputId": "7b236145-9960-4fd0-ac25-8936e51dfa67"
      },
      "execution_count": null,
      "outputs": [
        {
          "output_type": "stream",
          "name": "stdout",
          "text": [
            "1 2\n"
          ]
        }
      ]
    },
    {
      "cell_type": "code",
      "source": [
        "# 튜플 형태로 리턴하는 함수 복습 \n",
        "# 리스트의 인덱스와 값 변환 = enumerate()\n",
        "list1=[00,11,22,33]\n",
        "for i , j in enumerate(list1):\n",
        "  print(\"index:\", i, \"  |   val:\", j)"
      ],
      "metadata": {
        "colab": {
          "base_uri": "https://localhost:8080/"
        },
        "id": "6EQC2A_2anCD",
        "outputId": "79a1bc22-b1c1-4f89-fbb4-18aff853b2e4"
      },
      "execution_count": null,
      "outputs": [
        {
          "output_type": "stream",
          "name": "stdout",
          "text": [
            "index: 0   |   val: 0\n",
            "index: 1   |   val: 11\n",
            "index: 2   |   val: 22\n",
            "index: 3   |   val: 33\n"
          ]
        }
      ]
    },
    {
      "cell_type": "code",
      "source": [
        "# 딕셔너리의 키와 값 변환 = items()\n",
        "dics={\"0\":000,\n",
        "    \"1\":111, \n",
        "      \"2\":222,\n",
        "      \"3\":333}\n",
        "for i , j in dics.items():\n",
        "  print(\"index:\", i, \"  |  val:\", j)"
      ],
      "metadata": {
        "colab": {
          "base_uri": "https://localhost:8080/"
        },
        "id": "iocHP5iZam_5",
        "outputId": "aa62f786-c008-4a0f-ef58-8aeb92c7961f"
      },
      "execution_count": null,
      "outputs": [
        {
          "output_type": "stream",
          "name": "stdout",
          "text": [
            "index: 0   |  val: 0\n",
            "index: 1   |  val: 111\n",
            "index: 2   |  val: 222\n",
            "index: 3   |  val: 333\n"
          ]
        }
      ]
    },
    {
      "cell_type": "code",
      "source": [
        "# 몫 , 나머지\n",
        "a,b = 63, 30\n",
        "print(a//b, a%b)\n",
        "\n"
      ],
      "metadata": {
        "id": "Kj_1mM-7am9V",
        "colab": {
          "base_uri": "https://localhost:8080/"
        },
        "outputId": "c3de9dd3-4018-4f86-f12c-560a6e4e1d0f"
      },
      "execution_count": 223,
      "outputs": [
        {
          "output_type": "stream",
          "name": "stdout",
          "text": [
            "2 3\n"
          ]
        }
      ]
    },
    {
      "cell_type": "code",
      "source": [
        "c ,d = divmod(63,30)\n",
        "print(c,d)"
      ],
      "metadata": {
        "colab": {
          "base_uri": "https://localhost:8080/"
        },
        "id": "VpdmolEpdflG",
        "outputId": "54ea3538-0898-46b9-8c18-dc4f3671addf"
      },
      "execution_count": 224,
      "outputs": [
        {
          "output_type": "stream",
          "name": "stdout",
          "text": [
            "2 3\n"
          ]
        }
      ]
    },
    {
      "cell_type": "markdown",
      "source": [
        "# 📒람다\n",
        "- lambda 매개변수 : 표현식\n",
        "- 함수의 매개변수에 사용하는 함수 = 콜백함수 "
      ],
      "metadata": {
        "id": "H1ugugv5eE8c"
      }
    },
    {
      "cell_type": "code",
      "source": [
        "def hap(x, y):\n",
        "  return x + y\n",
        "\n",
        "print(\"함수를 이용한 방법: \",hap(10, 20))"
      ],
      "metadata": {
        "colab": {
          "base_uri": "https://localhost:8080/"
        },
        "id": "M7DM5yiNnQIv",
        "outputId": "b9876d76-8109-4326-b4fc-ec74c11860cf"
      },
      "execution_count": 246,
      "outputs": [
        {
          "output_type": "stream",
          "name": "stdout",
          "text": [
            "함수를 이용한 방법:  30\n"
          ]
        }
      ]
    },
    {
      "cell_type": "code",
      "source": [
        "  # 위와 동일한 식 \n",
        "print(\"lambda를 이용한 방법: {}\".format((lambda x,y: x + y)(10, 20)))\n"
      ],
      "metadata": {
        "colab": {
          "base_uri": "https://localhost:8080/"
        },
        "id": "lwCQnu_Nnf4q",
        "outputId": "c76a3ce3-d267-4f0d-8265-05840d0c7754"
      },
      "execution_count": 252,
      "outputs": [
        {
          "output_type": "stream",
          "name": "stdout",
          "text": [
            "lambda를 이용한 방법: 30\n"
          ]
        }
      ]
    },
    {
      "cell_type": "code",
      "source": [
        "def repeat_10(x):\n",
        "  for i in range(10):\n",
        "      x()  # print_hi()\n",
        "def print_hi():\n",
        "  print(\"HIIIIII!\")\n",
        "\n",
        "repeat_10(print_hi)"
      ],
      "metadata": {
        "colab": {
          "base_uri": "https://localhost:8080/"
        },
        "id": "ODdd9aqleM0T",
        "outputId": "3e60ea88-ecee-49dc-e8dd-d92fd52ddc3c"
      },
      "execution_count": 237,
      "outputs": [
        {
          "output_type": "stream",
          "name": "stdout",
          "text": [
            "HIIIIII!\n",
            "HIIIIII!\n",
            "HIIIIII!\n",
            "HIIIIII!\n",
            "HIIIIII!\n",
            "HIIIIII!\n",
            "HIIIIII!\n",
            "HIIIIII!\n",
            "HIIIIII!\n",
            "HIIIIII!\n"
          ]
        }
      ]
    },
    {
      "cell_type": "markdown",
      "source": [
        "# 📒map()\n"
      ],
      "metadata": {
        "id": "SCpP9hF9fLNO"
      }
    },
    {
      "cell_type": "code",
      "source": [
        "# map함수 \n",
        "# 리스트 선언 \n",
        "list1 = [1,2,3,4]\n",
        "\n",
        "# 임의의 함수 \n",
        "def sqr(x):\n",
        "  return x**2\n",
        "\n",
        "# map() 적용 \n",
        "a = list(map(sqr,list1))\n",
        "print(a)\n",
        "\n",
        "# 리스트 요소 보기 \n",
        "for i in a:\n",
        "  print(i)"
      ],
      "metadata": {
        "colab": {
          "base_uri": "https://localhost:8080/"
        },
        "id": "dHhKLUJweMx7",
        "outputId": "e4e052eb-b606-40a0-b621-02c845a8c14d"
      },
      "execution_count": 232,
      "outputs": [
        {
          "output_type": "stream",
          "name": "stdout",
          "text": [
            "[1, 4, 9, 16]\n",
            "1\n",
            "4\n",
            "9\n",
            "16\n"
          ]
        }
      ]
    },
    {
      "cell_type": "markdown",
      "source": [
        "# 📒filter()"
      ],
      "metadata": {
        "id": "N_tR7dFkgLTM"
      }
    },
    {
      "cell_type": "code",
      "source": [
        "# map함수 \n",
        "# 리스트 선언 \n",
        "list1 = [1,2,3,4,5,6,7]\n",
        "\n",
        "# 임의의 함수 \n",
        "def under5(x):\n",
        "  return x<5  # Bool값 리턴 T or F\n",
        "\n",
        "\n",
        "\n",
        "output = filter(under5,list1)   # True 인것만 output 변수에 들어감 \n",
        "print(output)\n",
        "print(list(output))\n"
      ],
      "metadata": {
        "colab": {
          "base_uri": "https://localhost:8080/"
        },
        "id": "uRpDUyW4eMuu",
        "outputId": "b1a6880b-bcb9-4c64-de7a-c7cfe7aac5a6"
      },
      "execution_count": 236,
      "outputs": [
        {
          "output_type": "stream",
          "name": "stdout",
          "text": [
            "<filter object at 0x7ffaf8e93d00>\n",
            "[1, 2, 3, 4]\n"
          ]
        }
      ]
    },
    {
      "cell_type": "code",
      "source": [
        "print(under5(4))"
      ],
      "metadata": {
        "colab": {
          "base_uri": "https://localhost:8080/"
        },
        "id": "2k52kStpeMsk",
        "outputId": "ed5252f3-5c07-4dd5-d146-a1d152cc8f1c"
      },
      "execution_count": 238,
      "outputs": [
        {
          "output_type": "stream",
          "name": "stdout",
          "text": [
            "True\n"
          ]
        }
      ]
    },
    {
      "cell_type": "markdown",
      "source": [
        "## 람다로 변경"
      ],
      "metadata": {
        "id": "kmWC8R59lkk3"
      }
    },
    {
      "cell_type": "code",
      "source": [
        "list1 = [1,2,3,4,5]\n",
        "# map() 적용 \n",
        "# lambda 매개변수: 리턴 값 \n",
        "a = list(map(lambda x:x**2, list1))\n",
        "print(a)\n",
        "\n",
        "# 리스트 요소 보기 \n",
        "for i in a:\n",
        "  print(i)"
      ],
      "metadata": {
        "colab": {
          "base_uri": "https://localhost:8080/"
        },
        "id": "sRVODozLlJMZ",
        "outputId": "3727b16b-ba0f-42c8-96f9-f169b78ba10e"
      },
      "execution_count": 239,
      "outputs": [
        {
          "output_type": "stream",
          "name": "stdout",
          "text": [
            "[1, 4, 9, 16, 25]\n",
            "1\n",
            "4\n",
            "9\n",
            "16\n",
            "25\n"
          ]
        }
      ]
    },
    {
      "cell_type": "code",
      "source": [
        "list1 = [1,2,3,4,5,6,7]\n",
        "output = filter(lambda x:x<5,list1)   # True 인것만 output 변수에 들어감 \n",
        "print(output)\n",
        "print(list(output))"
      ],
      "metadata": {
        "colab": {
          "base_uri": "https://localhost:8080/"
        },
        "id": "b21oa0almM24",
        "outputId": "4170ed5f-a49f-475c-f258-408f786dc823"
      },
      "execution_count": 241,
      "outputs": [
        {
          "output_type": "stream",
          "name": "stdout",
          "text": [
            "<filter object at 0x7ffaf91ccb20>\n",
            "[1, 2, 3, 4]\n"
          ]
        }
      ]
    }
  ]
}