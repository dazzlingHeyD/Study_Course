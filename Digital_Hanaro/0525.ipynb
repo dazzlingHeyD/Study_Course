{
  "nbformat": 4,
  "nbformat_minor": 0,
  "metadata": {
    "colab": {
      "provenance": [],
      "toc_visible": true
    },
    "kernelspec": {
      "name": "python3",
      "display_name": "Python 3"
    },
    "language_info": {
      "name": "python"
    }
  },
  "cells": [
    {
      "cell_type": "markdown",
      "source": [
        "# 데이터분석 관련 필수 라이브러리 \n",
        "\n",
        "1. 판다스 pandas\n",
        "2008년 금융 데이터 분석용으로 처음 개발\n",
        "오픈소스=무료\n",
        "통계, 데이터 과학, 머신러닝 분야에서 중요하게 사용\n",
        "코랩으로 실습하기 때문에 설치가 따로 필요없음\n",
        "설치: pip install pandas\n",
        "엡데이트 관련 질문이 나오면 y Y\n",
        "2. 넘파이 numpy\n",
        "숫자 해석 라이브러리\n",
        "선형대수 연산에 필요한 다차원 배열, 배열 연산 등\n",
        "설치: pip install numpoy\n",
        "3. 맷플롯립 matplotlib\n",
        "기본 제공 시각화 도구\n",
        "판다스와 연계하여 데이터를 다양한 방식으로 시각화\n",
        "설치: pip install matplotlib\n",
        "4. 사이파이 : 과학 계산용 함수를 모아놓은 파이썬 패키지입니다.\n",
        "5. 사이킷런 : 파이썬 프로그래밍 언어용 자유 소프트웨어 기계 학습 라이브러리이다.\n",
        "\n"
      ],
      "metadata": {
        "id": "rx1YlpyXR9Zu"
      }
    },
    {
      "cell_type": "markdown",
      "source": [
        "# 시리즈 "
      ],
      "metadata": {
        "id": "NqETMwn6dt3h"
      }
    },
    {
      "cell_type": "code",
      "execution_count": 112,
      "metadata": {
        "colab": {
          "base_uri": "https://localhost:8080/"
        },
        "id": "zMaE-6vhQjlo",
        "outputId": "22707dbb-5916-496f-cf51-03e887bfb663"
      },
      "outputs": [
        {
          "output_type": "stream",
          "name": "stdout",
          "text": [
            "{'a': 1, 'b': 2, 'c': 3}\n"
          ]
        }
      ],
      "source": [
        "# 라이브러리 불러오기 \n",
        "import pandas as pd \n",
        "\n",
        "# 딕셔너리 생성 - 키와 값으로 구성됨 \n",
        "test_dict = {\n",
        "    'a' :1,\n",
        "    'b' :2,\n",
        "    'c': 3\n",
        "}\n",
        "\n",
        "print(test_dict)"
      ]
    },
    {
      "cell_type": "code",
      "source": [
        "# 딕셔너리를 시리즈로 변환 \n",
        "s = pd.Series(test_dict)\n",
        "print(s)\n",
        "#시리즈 값은 정수 int \n",
        "print(type(s))"
      ],
      "metadata": {
        "colab": {
          "base_uri": "https://localhost:8080/"
        },
        "id": "0RKSGOxYeSjd",
        "outputId": "a250bbf4-9e09-4ffd-93ac-11c731f70614"
      },
      "execution_count": 113,
      "outputs": [
        {
          "output_type": "stream",
          "name": "stdout",
          "text": [
            "a    1\n",
            "b    2\n",
            "c    3\n",
            "dtype: int64\n",
            "<class 'pandas.core.series.Series'>\n"
          ]
        }
      ]
    },
    {
      "cell_type": "markdown",
      "source": [
        "## 인덱스 "
      ],
      "metadata": {
        "id": "dorP96F3iLft"
      }
    },
    {
      "cell_type": "code",
      "source": [
        "test_dict = {\n",
        "    'a' :1,\n",
        "    'b' :2,\n",
        "    'c': 3\n",
        "}\n",
        "\n",
        "print(test_dict)\n",
        "\n",
        "s = pd.Series(test_dict)\n",
        "# 인덱스 확인 \n",
        "print(s.index)\n",
        "# 데이터 타입 : object\n",
        "# 인덱스 이름 'a','b','c'"
      ],
      "metadata": {
        "colab": {
          "base_uri": "https://localhost:8080/"
        },
        "id": "9ks0V6Yhfb7B",
        "outputId": "d8315001-c2a5-4136-e6c6-fcef8a9d4884"
      },
      "execution_count": 114,
      "outputs": [
        {
          "output_type": "stream",
          "name": "stdout",
          "text": [
            "{'a': 1, 'b': 2, 'c': 3}\n",
            "Index(['a', 'b', 'c'], dtype='object')\n"
          ]
        }
      ]
    },
    {
      "cell_type": "code",
      "source": [
        "# 값 확인 \n",
        "print(s.values)\n",
        "# 딕셔너리의 키 => 인덱스 이름 \n",
        "# 딕셔너리 값 => 값 , 숫자 int "
      ],
      "metadata": {
        "colab": {
          "base_uri": "https://localhost:8080/"
        },
        "id": "A_otRL5di9gc",
        "outputId": "576650f8-cfa4-4b94-d645-c3f32b349b24"
      },
      "execution_count": 115,
      "outputs": [
        {
          "output_type": "stream",
          "name": "stdout",
          "text": [
            "[1 2 3]\n"
          ]
        }
      ]
    },
    {
      "cell_type": "code",
      "source": [
        "test_list=['hell' , 13, True, 3.014]\n",
        "print(test_list)"
      ],
      "metadata": {
        "colab": {
          "base_uri": "https://localhost:8080/"
        },
        "id": "dmVlGk0FjQoT",
        "outputId": "ff0ce529-1e5f-4240-afb9-5d315c669d60"
      },
      "execution_count": 116,
      "outputs": [
        {
          "output_type": "stream",
          "name": "stdout",
          "text": [
            "['hell', 13, True, 3.014]\n"
          ]
        }
      ]
    },
    {
      "cell_type": "code",
      "source": [
        "s = pd.Series(test_list)\n",
        "print(s)"
      ],
      "metadata": {
        "colab": {
          "base_uri": "https://localhost:8080/"
        },
        "id": "rkKvThfIlWIU",
        "outputId": "031ccf95-3579-43d7-e6de-aaa6efd93975"
      },
      "execution_count": 117,
      "outputs": [
        {
          "output_type": "stream",
          "name": "stdout",
          "text": [
            "0     hell\n",
            "1       13\n",
            "2     True\n",
            "3    3.014\n",
            "dtype: object\n"
          ]
        }
      ]
    },
    {
      "cell_type": "code",
      "source": [
        "# 인덱스 확인 \n",
        "print(s.index)\n",
        "# 값확인\n",
        "print(s.values)\n",
        "\n",
        "# 리스트의 인덱스 => 인덱스 숫자(정수)\n",
        "# 리스트의 요소 => 값: 기본자료 "
      ],
      "metadata": {
        "colab": {
          "base_uri": "https://localhost:8080/"
        },
        "id": "6njXhyEslPkm",
        "outputId": "f39816e1-324e-4def-e9ad-7efe851e26f6"
      },
      "execution_count": 118,
      "outputs": [
        {
          "output_type": "stream",
          "name": "stdout",
          "text": [
            "RangeIndex(start=0, stop=4, step=1)\n",
            "['hell' 13 True 3.014]\n"
          ]
        }
      ]
    },
    {
      "cell_type": "markdown",
      "source": [
        "## 원소 선택 "
      ],
      "metadata": {
        "id": "Q3WBezdipL47"
      }
    },
    {
      "cell_type": "code",
      "source": [
        "# 인덱스 사용 \n",
        "# 튜플 생성 \n",
        "# 리스트와 유사 \n",
        "# 차이점 : 소괄호 사용, 원소 변경 불가 \n",
        "# 기본 자료형 \n",
        "test_tuple =('아이유', 184,73.5, True)\n",
        "print(test_tuple)"
      ],
      "metadata": {
        "colab": {
          "base_uri": "https://localhost:8080/"
        },
        "id": "lDjh4iSNlPgP",
        "outputId": "cf4f1228-ddff-448a-aed9-de87fb6d000a"
      },
      "execution_count": 119,
      "outputs": [
        {
          "output_type": "stream",
          "name": "stdout",
          "text": [
            "('아이유', 184, 73.5, True)\n"
          ]
        }
      ]
    },
    {
      "cell_type": "code",
      "source": [
        "#튜플에서 시리즈로 변환 \n",
        "s = pd.Series(test_tuple, index =[\"name\",'height', 'weight', '이지은'] )\n",
        "print(s)"
      ],
      "metadata": {
        "colab": {
          "base_uri": "https://localhost:8080/"
        },
        "id": "zZcvP62kqeDd",
        "outputId": "33bfb608-05d3-4cc4-a6b6-2d6ddb0ea838"
      },
      "execution_count": 120,
      "outputs": [
        {
          "output_type": "stream",
          "name": "stdout",
          "text": [
            "name       아이유\n",
            "height     184\n",
            "weight    73.5\n",
            "이지은       True\n",
            "dtype: object\n"
          ]
        }
      ]
    },
    {
      "cell_type": "code",
      "source": [
        "#하나의 원소 선택 # 숫자 사용 \n",
        "for i in range(4):\n",
        "  print(s[i])"
      ],
      "metadata": {
        "colab": {
          "base_uri": "https://localhost:8080/"
        },
        "id": "CYNahDkIrRxk",
        "outputId": "3b688ce6-a6b0-47a3-cd9d-47c8d32031e6"
      },
      "execution_count": 121,
      "outputs": [
        {
          "output_type": "stream",
          "name": "stdout",
          "text": [
            "아이유\n",
            "184\n",
            "73.5\n",
            "True\n"
          ]
        }
      ]
    },
    {
      "cell_type": "code",
      "source": [
        "print(s['name'])\n",
        "print(s['height'])\n",
        "print(s['weight'])\n",
        "print(s['이지은'])"
      ],
      "metadata": {
        "colab": {
          "base_uri": "https://localhost:8080/"
        },
        "id": "geyjqNYSrbcT",
        "outputId": "c79ac851-07bf-4e2c-9788-74a6678aa3f2"
      },
      "execution_count": 122,
      "outputs": [
        {
          "output_type": "stream",
          "name": "stdout",
          "text": [
            "아이유\n",
            "184\n",
            "73.5\n",
            "True\n"
          ]
        }
      ]
    },
    {
      "cell_type": "code",
      "source": [
        "# 여러개의 원소 선택 \n",
        "# 숫자 \n",
        "print(s[[0,3]])\n",
        "print(s[[1,2]])\n",
        "# 이름 \n",
        "print(s[['name', 'weight']])"
      ],
      "metadata": {
        "colab": {
          "base_uri": "https://localhost:8080/"
        },
        "id": "Wg68l2J-sMri",
        "outputId": "35964ef4-8508-4667-e344-188d5dfdfe28"
      },
      "execution_count": 123,
      "outputs": [
        {
          "output_type": "stream",
          "name": "stdout",
          "text": [
            "name     아이유\n",
            "이지은     True\n",
            "dtype: object\n",
            "height     184\n",
            "weight    73.5\n",
            "dtype: object\n",
            "name       아이유\n",
            "weight    73.5\n",
            "dtype: object\n"
          ]
        }
      ]
    },
    {
      "cell_type": "code",
      "source": [
        "# 범위를 지정하여 여러 개의 원소 선택 = 슬라이싱\n",
        "print(s[0:2]) # name, height\n",
        "print(s['name':'weight']) # name, height"
      ],
      "metadata": {
        "colab": {
          "base_uri": "https://localhost:8080/"
        },
        "id": "F9Q2nLJ5sMh6",
        "outputId": "d4e8eaa5-5b7d-4b86-da36-01e4883b7639"
      },
      "execution_count": 124,
      "outputs": [
        {
          "output_type": "stream",
          "name": "stdout",
          "text": [
            "name      아이유\n",
            "height    184\n",
            "dtype: object\n",
            "name       아이유\n",
            "height     184\n",
            "weight    73.5\n",
            "dtype: object\n"
          ]
        }
      ]
    },
    {
      "cell_type": "markdown",
      "source": [
        "## 데이터프레임 "
      ],
      "metadata": {
        "id": "8SQOpR6FxwqD"
      }
    },
    {
      "cell_type": "code",
      "source": [
        "#라이브러리\n",
        "import pandas as pd"
      ],
      "metadata": {
        "id": "ILg_IMAVxvmL"
      },
      "execution_count": 125,
      "outputs": []
    },
    {
      "cell_type": "code",
      "source": [
        "#딕셔너리 = 키 & 여러개의 값 : 리스트 형태 \n",
        "test_dict  =  {\n",
        "    'c1' : [1,2,3,4],\n",
        "    'c2':[5,6,7,8],\n",
        "    'c3' : [9,10,11,0],\n",
        "    'c4' : [12,13,14,15]\n",
        "}\n",
        "df = pd.DataFrame(test_dict)\n",
        "print(df)"
      ],
      "metadata": {
        "colab": {
          "base_uri": "https://localhost:8080/"
        },
        "id": "FPbeu-lUx8NT",
        "outputId": "54740c99-1c09-4676-8954-4dfb2b472550"
      },
      "execution_count": 126,
      "outputs": [
        {
          "output_type": "stream",
          "name": "stdout",
          "text": [
            "   c1  c2  c3  c4\n",
            "0   1   5   9  12\n",
            "1   2   6  10  13\n",
            "2   3   7  11  14\n",
            "3   4   8   0  15\n"
          ]
        }
      ]
    },
    {
      "cell_type": "code",
      "source": [
        "# 딕셔너리를 데이터프레임으로 전환\n",
        "df = pd.DataFrame(test_dict)\n",
        "print(df)\n",
        "# 딕셔너리의 키 = 데이터프레임의 열 이름 \n",
        "# 딕셔너리의 값 = 데이터프레이믜 열 값 \n",
        "# 딕셔너리의 값 = 리스트의 요소 = 행 인덱스 "
      ],
      "metadata": {
        "colab": {
          "base_uri": "https://localhost:8080/"
        },
        "id": "9O5sop_4zAGL",
        "outputId": "435e7144-2583-495c-d76f-494a9c11c3e1"
      },
      "execution_count": 127,
      "outputs": [
        {
          "output_type": "stream",
          "name": "stdout",
          "text": [
            "   c1  c2  c3  c4\n",
            "0   1   5   9  12\n",
            "1   2   6  10  13\n",
            "2   3   7  11  14\n",
            "3   4   8   0  15\n"
          ]
        }
      ]
    },
    {
      "cell_type": "code",
      "source": [
        "type(df)"
      ],
      "metadata": {
        "colab": {
          "base_uri": "https://localhost:8080/"
        },
        "id": "qpBqyH57zR_z",
        "outputId": "1473a0ea-68ef-4ddd-c32d-8358c0e50793"
      },
      "execution_count": 128,
      "outputs": [
        {
          "output_type": "execute_result",
          "data": {
            "text/plain": [
              "pandas.core.frame.DataFrame"
            ]
          },
          "metadata": {},
          "execution_count": 128
        }
      ]
    },
    {
      "cell_type": "markdown",
      "source": [
        "## 인덱스"
      ],
      "metadata": {
        "id": "Q5IkQaMzMnpG"
      }
    },
    {
      "cell_type": "code",
      "source": [
        "import pandas as pd"
      ],
      "metadata": {
        "id": "yQkXqanlGK9G"
      },
      "execution_count": 129,
      "outputs": []
    },
    {
      "cell_type": "code",
      "source": [
        "# 행 인덱스와 열 이름 설정하여 데이터프레임\n",
        "df = pd.DataFrame([['정대만',19,184],['서태웅',17,180]],\n",
        "                  index =['선수1','선수2'], # 행 인덱스 \n",
        "                  columns=['이름','나이','키']) # 열이름\n",
        "print(df)"
      ],
      "metadata": {
        "colab": {
          "base_uri": "https://localhost:8080/"
        },
        "id": "X-C6X7hTFaJe",
        "outputId": "fcca99be-bd2c-47b5-c44f-8cbd47aef49a"
      },
      "execution_count": 130,
      "outputs": [
        {
          "output_type": "stream",
          "name": "stdout",
          "text": [
            "      이름  나이    키\n",
            "선수1  정대만  19  184\n",
            "선수2  서태웅  17  180\n"
          ]
        }
      ]
    },
    {
      "cell_type": "code",
      "source": [
        "# 행 인덱스 확인 \n",
        "print(df.index)\n",
        "# 열 이름 확인 \n",
        "print(df.columns)"
      ],
      "metadata": {
        "colab": {
          "base_uri": "https://localhost:8080/"
        },
        "id": "OlqbzgesGOeG",
        "outputId": "f0a94c9c-2381-4a58-d8ce-68b3b6c74e2c"
      },
      "execution_count": 131,
      "outputs": [
        {
          "output_type": "stream",
          "name": "stdout",
          "text": [
            "Index(['선수1', '선수2'], dtype='object')\n",
            "Index(['이름', '나이', '키'], dtype='object')\n"
          ]
        }
      ]
    },
    {
      "cell_type": "code",
      "source": [
        "# 행 인덱스, 열 이름 변경 \n",
        "df.index=['학생1','학생2']\n",
        "df"
      ],
      "metadata": {
        "colab": {
          "base_uri": "https://localhost:8080/",
          "height": 112
        },
        "id": "iCRS2yYyGdg-",
        "outputId": "01a6e301-46eb-437d-8ded-cc97c08a05d6"
      },
      "execution_count": 132,
      "outputs": [
        {
          "output_type": "execute_result",
          "data": {
            "text/plain": [
              "      이름  나이    키\n",
              "학생1  정대만  19  184\n",
              "학생2  서태웅  17  180"
            ],
            "text/html": [
              "\n",
              "  <div id=\"df-5abc1aef-7132-4626-900e-7e5424d0b00f\">\n",
              "    <div class=\"colab-df-container\">\n",
              "      <div>\n",
              "<style scoped>\n",
              "    .dataframe tbody tr th:only-of-type {\n",
              "        vertical-align: middle;\n",
              "    }\n",
              "\n",
              "    .dataframe tbody tr th {\n",
              "        vertical-align: top;\n",
              "    }\n",
              "\n",
              "    .dataframe thead th {\n",
              "        text-align: right;\n",
              "    }\n",
              "</style>\n",
              "<table border=\"1\" class=\"dataframe\">\n",
              "  <thead>\n",
              "    <tr style=\"text-align: right;\">\n",
              "      <th></th>\n",
              "      <th>이름</th>\n",
              "      <th>나이</th>\n",
              "      <th>키</th>\n",
              "    </tr>\n",
              "  </thead>\n",
              "  <tbody>\n",
              "    <tr>\n",
              "      <th>학생1</th>\n",
              "      <td>정대만</td>\n",
              "      <td>19</td>\n",
              "      <td>184</td>\n",
              "    </tr>\n",
              "    <tr>\n",
              "      <th>학생2</th>\n",
              "      <td>서태웅</td>\n",
              "      <td>17</td>\n",
              "      <td>180</td>\n",
              "    </tr>\n",
              "  </tbody>\n",
              "</table>\n",
              "</div>\n",
              "      <button class=\"colab-df-convert\" onclick=\"convertToInteractive('df-5abc1aef-7132-4626-900e-7e5424d0b00f')\"\n",
              "              title=\"Convert this dataframe to an interactive table.\"\n",
              "              style=\"display:none;\">\n",
              "        \n",
              "  <svg xmlns=\"http://www.w3.org/2000/svg\" height=\"24px\"viewBox=\"0 0 24 24\"\n",
              "       width=\"24px\">\n",
              "    <path d=\"M0 0h24v24H0V0z\" fill=\"none\"/>\n",
              "    <path d=\"M18.56 5.44l.94 2.06.94-2.06 2.06-.94-2.06-.94-.94-2.06-.94 2.06-2.06.94zm-11 1L8.5 8.5l.94-2.06 2.06-.94-2.06-.94L8.5 2.5l-.94 2.06-2.06.94zm10 10l.94 2.06.94-2.06 2.06-.94-2.06-.94-.94-2.06-.94 2.06-2.06.94z\"/><path d=\"M17.41 7.96l-1.37-1.37c-.4-.4-.92-.59-1.43-.59-.52 0-1.04.2-1.43.59L10.3 9.45l-7.72 7.72c-.78.78-.78 2.05 0 2.83L4 21.41c.39.39.9.59 1.41.59.51 0 1.02-.2 1.41-.59l7.78-7.78 2.81-2.81c.8-.78.8-2.07 0-2.86zM5.41 20L4 18.59l7.72-7.72 1.47 1.35L5.41 20z\"/>\n",
              "  </svg>\n",
              "      </button>\n",
              "      \n",
              "  <style>\n",
              "    .colab-df-container {\n",
              "      display:flex;\n",
              "      flex-wrap:wrap;\n",
              "      gap: 12px;\n",
              "    }\n",
              "\n",
              "    .colab-df-convert {\n",
              "      background-color: #E8F0FE;\n",
              "      border: none;\n",
              "      border-radius: 50%;\n",
              "      cursor: pointer;\n",
              "      display: none;\n",
              "      fill: #1967D2;\n",
              "      height: 32px;\n",
              "      padding: 0 0 0 0;\n",
              "      width: 32px;\n",
              "    }\n",
              "\n",
              "    .colab-df-convert:hover {\n",
              "      background-color: #E2EBFA;\n",
              "      box-shadow: 0px 1px 2px rgba(60, 64, 67, 0.3), 0px 1px 3px 1px rgba(60, 64, 67, 0.15);\n",
              "      fill: #174EA6;\n",
              "    }\n",
              "\n",
              "    [theme=dark] .colab-df-convert {\n",
              "      background-color: #3B4455;\n",
              "      fill: #D2E3FC;\n",
              "    }\n",
              "\n",
              "    [theme=dark] .colab-df-convert:hover {\n",
              "      background-color: #434B5C;\n",
              "      box-shadow: 0px 1px 3px 1px rgba(0, 0, 0, 0.15);\n",
              "      filter: drop-shadow(0px 1px 2px rgba(0, 0, 0, 0.3));\n",
              "      fill: #FFFFFF;\n",
              "    }\n",
              "  </style>\n",
              "\n",
              "      <script>\n",
              "        const buttonEl =\n",
              "          document.querySelector('#df-5abc1aef-7132-4626-900e-7e5424d0b00f button.colab-df-convert');\n",
              "        buttonEl.style.display =\n",
              "          google.colab.kernel.accessAllowed ? 'block' : 'none';\n",
              "\n",
              "        async function convertToInteractive(key) {\n",
              "          const element = document.querySelector('#df-5abc1aef-7132-4626-900e-7e5424d0b00f');\n",
              "          const dataTable =\n",
              "            await google.colab.kernel.invokeFunction('convertToInteractive',\n",
              "                                                     [key], {});\n",
              "          if (!dataTable) return;\n",
              "\n",
              "          const docLinkHtml = 'Like what you see? Visit the ' +\n",
              "            '<a target=\"_blank\" href=https://colab.research.google.com/notebooks/data_table.ipynb>data table notebook</a>'\n",
              "            + ' to learn more about interactive tables.';\n",
              "          element.innerHTML = '';\n",
              "          dataTable['output_type'] = 'display_data';\n",
              "          await google.colab.output.renderOutput(dataTable, element);\n",
              "          const docLink = document.createElement('div');\n",
              "          docLink.innerHTML = docLinkHtml;\n",
              "          element.appendChild(docLink);\n",
              "        }\n",
              "      </script>\n",
              "    </div>\n",
              "  </div>\n",
              "  "
            ]
          },
          "metadata": {},
          "execution_count": 132
        }
      ]
    },
    {
      "cell_type": "code",
      "source": [
        "#열 이름 변경 \n",
        "df.columns  = ['성명', '연령', '신장']\n",
        "df"
      ],
      "metadata": {
        "colab": {
          "base_uri": "https://localhost:8080/",
          "height": 112
        },
        "id": "x_2QGMC0HLaN",
        "outputId": "dc175ae0-8a59-4264-de47-1fa7af05ee30"
      },
      "execution_count": 133,
      "outputs": [
        {
          "output_type": "execute_result",
          "data": {
            "text/plain": [
              "      성명  연령   신장\n",
              "학생1  정대만  19  184\n",
              "학생2  서태웅  17  180"
            ],
            "text/html": [
              "\n",
              "  <div id=\"df-02250a4b-7aa4-478b-ae99-e12377084b17\">\n",
              "    <div class=\"colab-df-container\">\n",
              "      <div>\n",
              "<style scoped>\n",
              "    .dataframe tbody tr th:only-of-type {\n",
              "        vertical-align: middle;\n",
              "    }\n",
              "\n",
              "    .dataframe tbody tr th {\n",
              "        vertical-align: top;\n",
              "    }\n",
              "\n",
              "    .dataframe thead th {\n",
              "        text-align: right;\n",
              "    }\n",
              "</style>\n",
              "<table border=\"1\" class=\"dataframe\">\n",
              "  <thead>\n",
              "    <tr style=\"text-align: right;\">\n",
              "      <th></th>\n",
              "      <th>성명</th>\n",
              "      <th>연령</th>\n",
              "      <th>신장</th>\n",
              "    </tr>\n",
              "  </thead>\n",
              "  <tbody>\n",
              "    <tr>\n",
              "      <th>학생1</th>\n",
              "      <td>정대만</td>\n",
              "      <td>19</td>\n",
              "      <td>184</td>\n",
              "    </tr>\n",
              "    <tr>\n",
              "      <th>학생2</th>\n",
              "      <td>서태웅</td>\n",
              "      <td>17</td>\n",
              "      <td>180</td>\n",
              "    </tr>\n",
              "  </tbody>\n",
              "</table>\n",
              "</div>\n",
              "      <button class=\"colab-df-convert\" onclick=\"convertToInteractive('df-02250a4b-7aa4-478b-ae99-e12377084b17')\"\n",
              "              title=\"Convert this dataframe to an interactive table.\"\n",
              "              style=\"display:none;\">\n",
              "        \n",
              "  <svg xmlns=\"http://www.w3.org/2000/svg\" height=\"24px\"viewBox=\"0 0 24 24\"\n",
              "       width=\"24px\">\n",
              "    <path d=\"M0 0h24v24H0V0z\" fill=\"none\"/>\n",
              "    <path d=\"M18.56 5.44l.94 2.06.94-2.06 2.06-.94-2.06-.94-.94-2.06-.94 2.06-2.06.94zm-11 1L8.5 8.5l.94-2.06 2.06-.94-2.06-.94L8.5 2.5l-.94 2.06-2.06.94zm10 10l.94 2.06.94-2.06 2.06-.94-2.06-.94-.94-2.06-.94 2.06-2.06.94z\"/><path d=\"M17.41 7.96l-1.37-1.37c-.4-.4-.92-.59-1.43-.59-.52 0-1.04.2-1.43.59L10.3 9.45l-7.72 7.72c-.78.78-.78 2.05 0 2.83L4 21.41c.39.39.9.59 1.41.59.51 0 1.02-.2 1.41-.59l7.78-7.78 2.81-2.81c.8-.78.8-2.07 0-2.86zM5.41 20L4 18.59l7.72-7.72 1.47 1.35L5.41 20z\"/>\n",
              "  </svg>\n",
              "      </button>\n",
              "      \n",
              "  <style>\n",
              "    .colab-df-container {\n",
              "      display:flex;\n",
              "      flex-wrap:wrap;\n",
              "      gap: 12px;\n",
              "    }\n",
              "\n",
              "    .colab-df-convert {\n",
              "      background-color: #E8F0FE;\n",
              "      border: none;\n",
              "      border-radius: 50%;\n",
              "      cursor: pointer;\n",
              "      display: none;\n",
              "      fill: #1967D2;\n",
              "      height: 32px;\n",
              "      padding: 0 0 0 0;\n",
              "      width: 32px;\n",
              "    }\n",
              "\n",
              "    .colab-df-convert:hover {\n",
              "      background-color: #E2EBFA;\n",
              "      box-shadow: 0px 1px 2px rgba(60, 64, 67, 0.3), 0px 1px 3px 1px rgba(60, 64, 67, 0.15);\n",
              "      fill: #174EA6;\n",
              "    }\n",
              "\n",
              "    [theme=dark] .colab-df-convert {\n",
              "      background-color: #3B4455;\n",
              "      fill: #D2E3FC;\n",
              "    }\n",
              "\n",
              "    [theme=dark] .colab-df-convert:hover {\n",
              "      background-color: #434B5C;\n",
              "      box-shadow: 0px 1px 3px 1px rgba(0, 0, 0, 0.15);\n",
              "      filter: drop-shadow(0px 1px 2px rgba(0, 0, 0, 0.3));\n",
              "      fill: #FFFFFF;\n",
              "    }\n",
              "  </style>\n",
              "\n",
              "      <script>\n",
              "        const buttonEl =\n",
              "          document.querySelector('#df-02250a4b-7aa4-478b-ae99-e12377084b17 button.colab-df-convert');\n",
              "        buttonEl.style.display =\n",
              "          google.colab.kernel.accessAllowed ? 'block' : 'none';\n",
              "\n",
              "        async function convertToInteractive(key) {\n",
              "          const element = document.querySelector('#df-02250a4b-7aa4-478b-ae99-e12377084b17');\n",
              "          const dataTable =\n",
              "            await google.colab.kernel.invokeFunction('convertToInteractive',\n",
              "                                                     [key], {});\n",
              "          if (!dataTable) return;\n",
              "\n",
              "          const docLinkHtml = 'Like what you see? Visit the ' +\n",
              "            '<a target=\"_blank\" href=https://colab.research.google.com/notebooks/data_table.ipynb>data table notebook</a>'\n",
              "            + ' to learn more about interactive tables.';\n",
              "          element.innerHTML = '';\n",
              "          dataTable['output_type'] = 'display_data';\n",
              "          await google.colab.output.renderOutput(dataTable, element);\n",
              "          const docLink = document.createElement('div');\n",
              "          docLink.innerHTML = docLinkHtml;\n",
              "          element.appendChild(docLink);\n",
              "        }\n",
              "      </script>\n",
              "    </div>\n",
              "  </div>\n",
              "  "
            ]
          },
          "metadata": {},
          "execution_count": 133
        }
      ]
    },
    {
      "cell_type": "code",
      "source": [
        "# 메소드 함수 = 클래스 안에 있는 함수 \n",
        "# 행 인덱스 , 열 이름 => \n",
        "df_new = df.rename(index = {'학생1': '선수1', '학생2': '선수2'}) # 사본으로 반환하므로 저장하고 싶다면 다시 저장해야한다. "
      ],
      "metadata": {
        "id": "Fiu1a7luIUEn"
      },
      "execution_count": 134,
      "outputs": []
    },
    {
      "cell_type": "code",
      "source": [
        "df_new"
      ],
      "metadata": {
        "colab": {
          "base_uri": "https://localhost:8080/",
          "height": 112
        },
        "id": "szu_8HQ6IUBm",
        "outputId": "ac68f827-778b-4045-a450-e52218934f2c"
      },
      "execution_count": 135,
      "outputs": [
        {
          "output_type": "execute_result",
          "data": {
            "text/plain": [
              "      성명  연령   신장\n",
              "선수1  정대만  19  184\n",
              "선수2  서태웅  17  180"
            ],
            "text/html": [
              "\n",
              "  <div id=\"df-e585a23c-b72c-4e4b-9393-1875e08df38c\">\n",
              "    <div class=\"colab-df-container\">\n",
              "      <div>\n",
              "<style scoped>\n",
              "    .dataframe tbody tr th:only-of-type {\n",
              "        vertical-align: middle;\n",
              "    }\n",
              "\n",
              "    .dataframe tbody tr th {\n",
              "        vertical-align: top;\n",
              "    }\n",
              "\n",
              "    .dataframe thead th {\n",
              "        text-align: right;\n",
              "    }\n",
              "</style>\n",
              "<table border=\"1\" class=\"dataframe\">\n",
              "  <thead>\n",
              "    <tr style=\"text-align: right;\">\n",
              "      <th></th>\n",
              "      <th>성명</th>\n",
              "      <th>연령</th>\n",
              "      <th>신장</th>\n",
              "    </tr>\n",
              "  </thead>\n",
              "  <tbody>\n",
              "    <tr>\n",
              "      <th>선수1</th>\n",
              "      <td>정대만</td>\n",
              "      <td>19</td>\n",
              "      <td>184</td>\n",
              "    </tr>\n",
              "    <tr>\n",
              "      <th>선수2</th>\n",
              "      <td>서태웅</td>\n",
              "      <td>17</td>\n",
              "      <td>180</td>\n",
              "    </tr>\n",
              "  </tbody>\n",
              "</table>\n",
              "</div>\n",
              "      <button class=\"colab-df-convert\" onclick=\"convertToInteractive('df-e585a23c-b72c-4e4b-9393-1875e08df38c')\"\n",
              "              title=\"Convert this dataframe to an interactive table.\"\n",
              "              style=\"display:none;\">\n",
              "        \n",
              "  <svg xmlns=\"http://www.w3.org/2000/svg\" height=\"24px\"viewBox=\"0 0 24 24\"\n",
              "       width=\"24px\">\n",
              "    <path d=\"M0 0h24v24H0V0z\" fill=\"none\"/>\n",
              "    <path d=\"M18.56 5.44l.94 2.06.94-2.06 2.06-.94-2.06-.94-.94-2.06-.94 2.06-2.06.94zm-11 1L8.5 8.5l.94-2.06 2.06-.94-2.06-.94L8.5 2.5l-.94 2.06-2.06.94zm10 10l.94 2.06.94-2.06 2.06-.94-2.06-.94-.94-2.06-.94 2.06-2.06.94z\"/><path d=\"M17.41 7.96l-1.37-1.37c-.4-.4-.92-.59-1.43-.59-.52 0-1.04.2-1.43.59L10.3 9.45l-7.72 7.72c-.78.78-.78 2.05 0 2.83L4 21.41c.39.39.9.59 1.41.59.51 0 1.02-.2 1.41-.59l7.78-7.78 2.81-2.81c.8-.78.8-2.07 0-2.86zM5.41 20L4 18.59l7.72-7.72 1.47 1.35L5.41 20z\"/>\n",
              "  </svg>\n",
              "      </button>\n",
              "      \n",
              "  <style>\n",
              "    .colab-df-container {\n",
              "      display:flex;\n",
              "      flex-wrap:wrap;\n",
              "      gap: 12px;\n",
              "    }\n",
              "\n",
              "    .colab-df-convert {\n",
              "      background-color: #E8F0FE;\n",
              "      border: none;\n",
              "      border-radius: 50%;\n",
              "      cursor: pointer;\n",
              "      display: none;\n",
              "      fill: #1967D2;\n",
              "      height: 32px;\n",
              "      padding: 0 0 0 0;\n",
              "      width: 32px;\n",
              "    }\n",
              "\n",
              "    .colab-df-convert:hover {\n",
              "      background-color: #E2EBFA;\n",
              "      box-shadow: 0px 1px 2px rgba(60, 64, 67, 0.3), 0px 1px 3px 1px rgba(60, 64, 67, 0.15);\n",
              "      fill: #174EA6;\n",
              "    }\n",
              "\n",
              "    [theme=dark] .colab-df-convert {\n",
              "      background-color: #3B4455;\n",
              "      fill: #D2E3FC;\n",
              "    }\n",
              "\n",
              "    [theme=dark] .colab-df-convert:hover {\n",
              "      background-color: #434B5C;\n",
              "      box-shadow: 0px 1px 3px 1px rgba(0, 0, 0, 0.15);\n",
              "      filter: drop-shadow(0px 1px 2px rgba(0, 0, 0, 0.3));\n",
              "      fill: #FFFFFF;\n",
              "    }\n",
              "  </style>\n",
              "\n",
              "      <script>\n",
              "        const buttonEl =\n",
              "          document.querySelector('#df-e585a23c-b72c-4e4b-9393-1875e08df38c button.colab-df-convert');\n",
              "        buttonEl.style.display =\n",
              "          google.colab.kernel.accessAllowed ? 'block' : 'none';\n",
              "\n",
              "        async function convertToInteractive(key) {\n",
              "          const element = document.querySelector('#df-e585a23c-b72c-4e4b-9393-1875e08df38c');\n",
              "          const dataTable =\n",
              "            await google.colab.kernel.invokeFunction('convertToInteractive',\n",
              "                                                     [key], {});\n",
              "          if (!dataTable) return;\n",
              "\n",
              "          const docLinkHtml = 'Like what you see? Visit the ' +\n",
              "            '<a target=\"_blank\" href=https://colab.research.google.com/notebooks/data_table.ipynb>data table notebook</a>'\n",
              "            + ' to learn more about interactive tables.';\n",
              "          element.innerHTML = '';\n",
              "          dataTable['output_type'] = 'display_data';\n",
              "          await google.colab.output.renderOutput(dataTable, element);\n",
              "          const docLink = document.createElement('div');\n",
              "          docLink.innerHTML = docLinkHtml;\n",
              "          element.appendChild(docLink);\n",
              "        }\n",
              "      </script>\n",
              "    </div>\n",
              "  </div>\n",
              "  "
            ]
          },
          "metadata": {},
          "execution_count": 135
        }
      ]
    },
    {
      "cell_type": "code",
      "source": [
        "# 원본을 바로 변경\n",
        "print(df) # 변경 전 \n",
        "df.rename(index = {'학생1': '선수1', '학생2': '선수2'}, inplace = True)\n",
        "print(df)# 변경 후 "
      ],
      "metadata": {
        "colab": {
          "base_uri": "https://localhost:8080/"
        },
        "id": "yymUlbvdIT3m",
        "outputId": "33a9bc65-4654-42e7-aef7-09385d640508"
      },
      "execution_count": 136,
      "outputs": [
        {
          "output_type": "stream",
          "name": "stdout",
          "text": [
            "      성명  연령   신장\n",
            "학생1  정대만  19  184\n",
            "학생2  서태웅  17  180\n",
            "      성명  연령   신장\n",
            "선수1  정대만  19  184\n",
            "선수2  서태웅  17  180\n"
          ]
        }
      ]
    },
    {
      "cell_type": "code",
      "source": [
        "df_new = df.rename(columns ={'성명' : '이름',\n",
        "                             '연령': '나이',\n",
        "                             '신장':'키'})\n",
        "df"
      ],
      "metadata": {
        "colab": {
          "base_uri": "https://localhost:8080/",
          "height": 112
        },
        "id": "71jlksJYKFeW",
        "outputId": "e52d9743-3f65-4db7-f8cd-a15d9edbb2d0"
      },
      "execution_count": 137,
      "outputs": [
        {
          "output_type": "execute_result",
          "data": {
            "text/plain": [
              "      성명  연령   신장\n",
              "선수1  정대만  19  184\n",
              "선수2  서태웅  17  180"
            ],
            "text/html": [
              "\n",
              "  <div id=\"df-af6223a0-4f13-4828-a229-46b900d961e0\">\n",
              "    <div class=\"colab-df-container\">\n",
              "      <div>\n",
              "<style scoped>\n",
              "    .dataframe tbody tr th:only-of-type {\n",
              "        vertical-align: middle;\n",
              "    }\n",
              "\n",
              "    .dataframe tbody tr th {\n",
              "        vertical-align: top;\n",
              "    }\n",
              "\n",
              "    .dataframe thead th {\n",
              "        text-align: right;\n",
              "    }\n",
              "</style>\n",
              "<table border=\"1\" class=\"dataframe\">\n",
              "  <thead>\n",
              "    <tr style=\"text-align: right;\">\n",
              "      <th></th>\n",
              "      <th>성명</th>\n",
              "      <th>연령</th>\n",
              "      <th>신장</th>\n",
              "    </tr>\n",
              "  </thead>\n",
              "  <tbody>\n",
              "    <tr>\n",
              "      <th>선수1</th>\n",
              "      <td>정대만</td>\n",
              "      <td>19</td>\n",
              "      <td>184</td>\n",
              "    </tr>\n",
              "    <tr>\n",
              "      <th>선수2</th>\n",
              "      <td>서태웅</td>\n",
              "      <td>17</td>\n",
              "      <td>180</td>\n",
              "    </tr>\n",
              "  </tbody>\n",
              "</table>\n",
              "</div>\n",
              "      <button class=\"colab-df-convert\" onclick=\"convertToInteractive('df-af6223a0-4f13-4828-a229-46b900d961e0')\"\n",
              "              title=\"Convert this dataframe to an interactive table.\"\n",
              "              style=\"display:none;\">\n",
              "        \n",
              "  <svg xmlns=\"http://www.w3.org/2000/svg\" height=\"24px\"viewBox=\"0 0 24 24\"\n",
              "       width=\"24px\">\n",
              "    <path d=\"M0 0h24v24H0V0z\" fill=\"none\"/>\n",
              "    <path d=\"M18.56 5.44l.94 2.06.94-2.06 2.06-.94-2.06-.94-.94-2.06-.94 2.06-2.06.94zm-11 1L8.5 8.5l.94-2.06 2.06-.94-2.06-.94L8.5 2.5l-.94 2.06-2.06.94zm10 10l.94 2.06.94-2.06 2.06-.94-2.06-.94-.94-2.06-.94 2.06-2.06.94z\"/><path d=\"M17.41 7.96l-1.37-1.37c-.4-.4-.92-.59-1.43-.59-.52 0-1.04.2-1.43.59L10.3 9.45l-7.72 7.72c-.78.78-.78 2.05 0 2.83L4 21.41c.39.39.9.59 1.41.59.51 0 1.02-.2 1.41-.59l7.78-7.78 2.81-2.81c.8-.78.8-2.07 0-2.86zM5.41 20L4 18.59l7.72-7.72 1.47 1.35L5.41 20z\"/>\n",
              "  </svg>\n",
              "      </button>\n",
              "      \n",
              "  <style>\n",
              "    .colab-df-container {\n",
              "      display:flex;\n",
              "      flex-wrap:wrap;\n",
              "      gap: 12px;\n",
              "    }\n",
              "\n",
              "    .colab-df-convert {\n",
              "      background-color: #E8F0FE;\n",
              "      border: none;\n",
              "      border-radius: 50%;\n",
              "      cursor: pointer;\n",
              "      display: none;\n",
              "      fill: #1967D2;\n",
              "      height: 32px;\n",
              "      padding: 0 0 0 0;\n",
              "      width: 32px;\n",
              "    }\n",
              "\n",
              "    .colab-df-convert:hover {\n",
              "      background-color: #E2EBFA;\n",
              "      box-shadow: 0px 1px 2px rgba(60, 64, 67, 0.3), 0px 1px 3px 1px rgba(60, 64, 67, 0.15);\n",
              "      fill: #174EA6;\n",
              "    }\n",
              "\n",
              "    [theme=dark] .colab-df-convert {\n",
              "      background-color: #3B4455;\n",
              "      fill: #D2E3FC;\n",
              "    }\n",
              "\n",
              "    [theme=dark] .colab-df-convert:hover {\n",
              "      background-color: #434B5C;\n",
              "      box-shadow: 0px 1px 3px 1px rgba(0, 0, 0, 0.15);\n",
              "      filter: drop-shadow(0px 1px 2px rgba(0, 0, 0, 0.3));\n",
              "      fill: #FFFFFF;\n",
              "    }\n",
              "  </style>\n",
              "\n",
              "      <script>\n",
              "        const buttonEl =\n",
              "          document.querySelector('#df-af6223a0-4f13-4828-a229-46b900d961e0 button.colab-df-convert');\n",
              "        buttonEl.style.display =\n",
              "          google.colab.kernel.accessAllowed ? 'block' : 'none';\n",
              "\n",
              "        async function convertToInteractive(key) {\n",
              "          const element = document.querySelector('#df-af6223a0-4f13-4828-a229-46b900d961e0');\n",
              "          const dataTable =\n",
              "            await google.colab.kernel.invokeFunction('convertToInteractive',\n",
              "                                                     [key], {});\n",
              "          if (!dataTable) return;\n",
              "\n",
              "          const docLinkHtml = 'Like what you see? Visit the ' +\n",
              "            '<a target=\"_blank\" href=https://colab.research.google.com/notebooks/data_table.ipynb>data table notebook</a>'\n",
              "            + ' to learn more about interactive tables.';\n",
              "          element.innerHTML = '';\n",
              "          dataTable['output_type'] = 'display_data';\n",
              "          await google.colab.output.renderOutput(dataTable, element);\n",
              "          const docLink = document.createElement('div');\n",
              "          docLink.innerHTML = docLinkHtml;\n",
              "          element.appendChild(docLink);\n",
              "        }\n",
              "      </script>\n",
              "    </div>\n",
              "  </div>\n",
              "  "
            ]
          },
          "metadata": {},
          "execution_count": 137
        }
      ]
    },
    {
      "cell_type": "code",
      "source": [
        "# 원본을 바로 변경 \n",
        "print(df) #변경 전 \n",
        "df.rename(columns ={'성명' : '이름',\n",
        "                             '연령': '나이',\n",
        "                             '신장':'키'}, inplace = True)\n",
        "\n",
        "print(df)"
      ],
      "metadata": {
        "colab": {
          "base_uri": "https://localhost:8080/"
        },
        "id": "5atcaCb-Kj12",
        "outputId": "1ed2f2a1-574e-415e-b3a8-2edac99b57e5"
      },
      "execution_count": 138,
      "outputs": [
        {
          "output_type": "stream",
          "name": "stdout",
          "text": [
            "      성명  연령   신장\n",
            "선수1  정대만  19  184\n",
            "선수2  서태웅  17  180\n",
            "      이름  나이    키\n",
            "선수1  정대만  19  184\n",
            "선수2  서태웅  17  180\n"
          ]
        }
      ]
    },
    {
      "cell_type": "markdown",
      "source": [
        "### 행 , 열 삭제"
      ],
      "metadata": {
        "id": "WR7ya7e7M4EI"
      }
    },
    {
      "cell_type": "code",
      "source": [
        "score_dict = {\n",
        "      'point3' :[24,3,9],\n",
        "      'point2' : [6,4,1],\n",
        "      'ft' : [3,1,6]\n",
        "}\n",
        "print(score_dict)"
      ],
      "metadata": {
        "colab": {
          "base_uri": "https://localhost:8080/"
        },
        "id": "7_5asVQgMiJ-",
        "outputId": "0201d9f9-4e64-461e-c7fa-b30c666ed4b6"
      },
      "execution_count": 139,
      "outputs": [
        {
          "output_type": "stream",
          "name": "stdout",
          "text": [
            "{'point3': [24, 3, 9], 'point2': [6, 4, 1], 'ft': [3, 1, 6]}\n"
          ]
        }
      ]
    },
    {
      "cell_type": "code",
      "source": [
        "df = pd.DataFrame(score_dict,index=['정대만','강백호','서태웅'])\n",
        "df"
      ],
      "metadata": {
        "colab": {
          "base_uri": "https://localhost:8080/",
          "height": 143
        },
        "id": "JmEKOWJXMiHd",
        "outputId": "9107ed1d-3923-45ad-c307-c2ade91d18d7"
      },
      "execution_count": 140,
      "outputs": [
        {
          "output_type": "execute_result",
          "data": {
            "text/plain": [
              "     point3  point2  ft\n",
              "정대만      24       6   3\n",
              "강백호       3       4   1\n",
              "서태웅       9       1   6"
            ],
            "text/html": [
              "\n",
              "  <div id=\"df-5074c67e-0b24-4f73-b952-e49fa9355bba\">\n",
              "    <div class=\"colab-df-container\">\n",
              "      <div>\n",
              "<style scoped>\n",
              "    .dataframe tbody tr th:only-of-type {\n",
              "        vertical-align: middle;\n",
              "    }\n",
              "\n",
              "    .dataframe tbody tr th {\n",
              "        vertical-align: top;\n",
              "    }\n",
              "\n",
              "    .dataframe thead th {\n",
              "        text-align: right;\n",
              "    }\n",
              "</style>\n",
              "<table border=\"1\" class=\"dataframe\">\n",
              "  <thead>\n",
              "    <tr style=\"text-align: right;\">\n",
              "      <th></th>\n",
              "      <th>point3</th>\n",
              "      <th>point2</th>\n",
              "      <th>ft</th>\n",
              "    </tr>\n",
              "  </thead>\n",
              "  <tbody>\n",
              "    <tr>\n",
              "      <th>정대만</th>\n",
              "      <td>24</td>\n",
              "      <td>6</td>\n",
              "      <td>3</td>\n",
              "    </tr>\n",
              "    <tr>\n",
              "      <th>강백호</th>\n",
              "      <td>3</td>\n",
              "      <td>4</td>\n",
              "      <td>1</td>\n",
              "    </tr>\n",
              "    <tr>\n",
              "      <th>서태웅</th>\n",
              "      <td>9</td>\n",
              "      <td>1</td>\n",
              "      <td>6</td>\n",
              "    </tr>\n",
              "  </tbody>\n",
              "</table>\n",
              "</div>\n",
              "      <button class=\"colab-df-convert\" onclick=\"convertToInteractive('df-5074c67e-0b24-4f73-b952-e49fa9355bba')\"\n",
              "              title=\"Convert this dataframe to an interactive table.\"\n",
              "              style=\"display:none;\">\n",
              "        \n",
              "  <svg xmlns=\"http://www.w3.org/2000/svg\" height=\"24px\"viewBox=\"0 0 24 24\"\n",
              "       width=\"24px\">\n",
              "    <path d=\"M0 0h24v24H0V0z\" fill=\"none\"/>\n",
              "    <path d=\"M18.56 5.44l.94 2.06.94-2.06 2.06-.94-2.06-.94-.94-2.06-.94 2.06-2.06.94zm-11 1L8.5 8.5l.94-2.06 2.06-.94-2.06-.94L8.5 2.5l-.94 2.06-2.06.94zm10 10l.94 2.06.94-2.06 2.06-.94-2.06-.94-.94-2.06-.94 2.06-2.06.94z\"/><path d=\"M17.41 7.96l-1.37-1.37c-.4-.4-.92-.59-1.43-.59-.52 0-1.04.2-1.43.59L10.3 9.45l-7.72 7.72c-.78.78-.78 2.05 0 2.83L4 21.41c.39.39.9.59 1.41.59.51 0 1.02-.2 1.41-.59l7.78-7.78 2.81-2.81c.8-.78.8-2.07 0-2.86zM5.41 20L4 18.59l7.72-7.72 1.47 1.35L5.41 20z\"/>\n",
              "  </svg>\n",
              "      </button>\n",
              "      \n",
              "  <style>\n",
              "    .colab-df-container {\n",
              "      display:flex;\n",
              "      flex-wrap:wrap;\n",
              "      gap: 12px;\n",
              "    }\n",
              "\n",
              "    .colab-df-convert {\n",
              "      background-color: #E8F0FE;\n",
              "      border: none;\n",
              "      border-radius: 50%;\n",
              "      cursor: pointer;\n",
              "      display: none;\n",
              "      fill: #1967D2;\n",
              "      height: 32px;\n",
              "      padding: 0 0 0 0;\n",
              "      width: 32px;\n",
              "    }\n",
              "\n",
              "    .colab-df-convert:hover {\n",
              "      background-color: #E2EBFA;\n",
              "      box-shadow: 0px 1px 2px rgba(60, 64, 67, 0.3), 0px 1px 3px 1px rgba(60, 64, 67, 0.15);\n",
              "      fill: #174EA6;\n",
              "    }\n",
              "\n",
              "    [theme=dark] .colab-df-convert {\n",
              "      background-color: #3B4455;\n",
              "      fill: #D2E3FC;\n",
              "    }\n",
              "\n",
              "    [theme=dark] .colab-df-convert:hover {\n",
              "      background-color: #434B5C;\n",
              "      box-shadow: 0px 1px 3px 1px rgba(0, 0, 0, 0.15);\n",
              "      filter: drop-shadow(0px 1px 2px rgba(0, 0, 0, 0.3));\n",
              "      fill: #FFFFFF;\n",
              "    }\n",
              "  </style>\n",
              "\n",
              "      <script>\n",
              "        const buttonEl =\n",
              "          document.querySelector('#df-5074c67e-0b24-4f73-b952-e49fa9355bba button.colab-df-convert');\n",
              "        buttonEl.style.display =\n",
              "          google.colab.kernel.accessAllowed ? 'block' : 'none';\n",
              "\n",
              "        async function convertToInteractive(key) {\n",
              "          const element = document.querySelector('#df-5074c67e-0b24-4f73-b952-e49fa9355bba');\n",
              "          const dataTable =\n",
              "            await google.colab.kernel.invokeFunction('convertToInteractive',\n",
              "                                                     [key], {});\n",
              "          if (!dataTable) return;\n",
              "\n",
              "          const docLinkHtml = 'Like what you see? Visit the ' +\n",
              "            '<a target=\"_blank\" href=https://colab.research.google.com/notebooks/data_table.ipynb>data table notebook</a>'\n",
              "            + ' to learn more about interactive tables.';\n",
              "          element.innerHTML = '';\n",
              "          dataTable['output_type'] = 'display_data';\n",
              "          await google.colab.output.renderOutput(dataTable, element);\n",
              "          const docLink = document.createElement('div');\n",
              "          docLink.innerHTML = docLinkHtml;\n",
              "          element.appendChild(docLink);\n",
              "        }\n",
              "      </script>\n",
              "    </div>\n",
              "  </div>\n",
              "  "
            ]
          },
          "metadata": {},
          "execution_count": 140
        }
      ]
    },
    {
      "cell_type": "code",
      "source": [
        "df1 = df[:] #복사된다. \n",
        "df1"
      ],
      "metadata": {
        "colab": {
          "base_uri": "https://localhost:8080/",
          "height": 143
        },
        "id": "_RLJaZoSMiD2",
        "outputId": "50d232fb-f905-4a3d-bb91-689c453281b1"
      },
      "execution_count": 141,
      "outputs": [
        {
          "output_type": "execute_result",
          "data": {
            "text/plain": [
              "     point3  point2  ft\n",
              "정대만      24       6   3\n",
              "강백호       3       4   1\n",
              "서태웅       9       1   6"
            ],
            "text/html": [
              "\n",
              "  <div id=\"df-d0dc52a9-843d-4a51-91cf-66b37d62a518\">\n",
              "    <div class=\"colab-df-container\">\n",
              "      <div>\n",
              "<style scoped>\n",
              "    .dataframe tbody tr th:only-of-type {\n",
              "        vertical-align: middle;\n",
              "    }\n",
              "\n",
              "    .dataframe tbody tr th {\n",
              "        vertical-align: top;\n",
              "    }\n",
              "\n",
              "    .dataframe thead th {\n",
              "        text-align: right;\n",
              "    }\n",
              "</style>\n",
              "<table border=\"1\" class=\"dataframe\">\n",
              "  <thead>\n",
              "    <tr style=\"text-align: right;\">\n",
              "      <th></th>\n",
              "      <th>point3</th>\n",
              "      <th>point2</th>\n",
              "      <th>ft</th>\n",
              "    </tr>\n",
              "  </thead>\n",
              "  <tbody>\n",
              "    <tr>\n",
              "      <th>정대만</th>\n",
              "      <td>24</td>\n",
              "      <td>6</td>\n",
              "      <td>3</td>\n",
              "    </tr>\n",
              "    <tr>\n",
              "      <th>강백호</th>\n",
              "      <td>3</td>\n",
              "      <td>4</td>\n",
              "      <td>1</td>\n",
              "    </tr>\n",
              "    <tr>\n",
              "      <th>서태웅</th>\n",
              "      <td>9</td>\n",
              "      <td>1</td>\n",
              "      <td>6</td>\n",
              "    </tr>\n",
              "  </tbody>\n",
              "</table>\n",
              "</div>\n",
              "      <button class=\"colab-df-convert\" onclick=\"convertToInteractive('df-d0dc52a9-843d-4a51-91cf-66b37d62a518')\"\n",
              "              title=\"Convert this dataframe to an interactive table.\"\n",
              "              style=\"display:none;\">\n",
              "        \n",
              "  <svg xmlns=\"http://www.w3.org/2000/svg\" height=\"24px\"viewBox=\"0 0 24 24\"\n",
              "       width=\"24px\">\n",
              "    <path d=\"M0 0h24v24H0V0z\" fill=\"none\"/>\n",
              "    <path d=\"M18.56 5.44l.94 2.06.94-2.06 2.06-.94-2.06-.94-.94-2.06-.94 2.06-2.06.94zm-11 1L8.5 8.5l.94-2.06 2.06-.94-2.06-.94L8.5 2.5l-.94 2.06-2.06.94zm10 10l.94 2.06.94-2.06 2.06-.94-2.06-.94-.94-2.06-.94 2.06-2.06.94z\"/><path d=\"M17.41 7.96l-1.37-1.37c-.4-.4-.92-.59-1.43-.59-.52 0-1.04.2-1.43.59L10.3 9.45l-7.72 7.72c-.78.78-.78 2.05 0 2.83L4 21.41c.39.39.9.59 1.41.59.51 0 1.02-.2 1.41-.59l7.78-7.78 2.81-2.81c.8-.78.8-2.07 0-2.86zM5.41 20L4 18.59l7.72-7.72 1.47 1.35L5.41 20z\"/>\n",
              "  </svg>\n",
              "      </button>\n",
              "      \n",
              "  <style>\n",
              "    .colab-df-container {\n",
              "      display:flex;\n",
              "      flex-wrap:wrap;\n",
              "      gap: 12px;\n",
              "    }\n",
              "\n",
              "    .colab-df-convert {\n",
              "      background-color: #E8F0FE;\n",
              "      border: none;\n",
              "      border-radius: 50%;\n",
              "      cursor: pointer;\n",
              "      display: none;\n",
              "      fill: #1967D2;\n",
              "      height: 32px;\n",
              "      padding: 0 0 0 0;\n",
              "      width: 32px;\n",
              "    }\n",
              "\n",
              "    .colab-df-convert:hover {\n",
              "      background-color: #E2EBFA;\n",
              "      box-shadow: 0px 1px 2px rgba(60, 64, 67, 0.3), 0px 1px 3px 1px rgba(60, 64, 67, 0.15);\n",
              "      fill: #174EA6;\n",
              "    }\n",
              "\n",
              "    [theme=dark] .colab-df-convert {\n",
              "      background-color: #3B4455;\n",
              "      fill: #D2E3FC;\n",
              "    }\n",
              "\n",
              "    [theme=dark] .colab-df-convert:hover {\n",
              "      background-color: #434B5C;\n",
              "      box-shadow: 0px 1px 3px 1px rgba(0, 0, 0, 0.15);\n",
              "      filter: drop-shadow(0px 1px 2px rgba(0, 0, 0, 0.3));\n",
              "      fill: #FFFFFF;\n",
              "    }\n",
              "  </style>\n",
              "\n",
              "      <script>\n",
              "        const buttonEl =\n",
              "          document.querySelector('#df-d0dc52a9-843d-4a51-91cf-66b37d62a518 button.colab-df-convert');\n",
              "        buttonEl.style.display =\n",
              "          google.colab.kernel.accessAllowed ? 'block' : 'none';\n",
              "\n",
              "        async function convertToInteractive(key) {\n",
              "          const element = document.querySelector('#df-d0dc52a9-843d-4a51-91cf-66b37d62a518');\n",
              "          const dataTable =\n",
              "            await google.colab.kernel.invokeFunction('convertToInteractive',\n",
              "                                                     [key], {});\n",
              "          if (!dataTable) return;\n",
              "\n",
              "          const docLinkHtml = 'Like what you see? Visit the ' +\n",
              "            '<a target=\"_blank\" href=https://colab.research.google.com/notebooks/data_table.ipynb>data table notebook</a>'\n",
              "            + ' to learn more about interactive tables.';\n",
              "          element.innerHTML = '';\n",
              "          dataTable['output_type'] = 'display_data';\n",
              "          await google.colab.output.renderOutput(dataTable, element);\n",
              "          const docLink = document.createElement('div');\n",
              "          docLink.innerHTML = docLinkHtml;\n",
              "          element.appendChild(docLink);\n",
              "        }\n",
              "      </script>\n",
              "    </div>\n",
              "  </div>\n",
              "  "
            ]
          },
          "metadata": {},
          "execution_count": 141
        }
      ]
    },
    {
      "cell_type": "code",
      "source": [
        "print(df1)\n",
        "df2 = df1.drop('강백호', axis=0)\n",
        "print(df2)\n",
        "print(df1)"
      ],
      "metadata": {
        "colab": {
          "base_uri": "https://localhost:8080/"
        },
        "id": "Vt_Hn0ozODjg",
        "outputId": "471fc21a-69fc-4bd0-ba74-b3a52548d4b5"
      },
      "execution_count": 142,
      "outputs": [
        {
          "output_type": "stream",
          "name": "stdout",
          "text": [
            "     point3  point2  ft\n",
            "정대만      24       6   3\n",
            "강백호       3       4   1\n",
            "서태웅       9       1   6\n",
            "     point3  point2  ft\n",
            "정대만      24       6   3\n",
            "서태웅       9       1   6\n",
            "     point3  point2  ft\n",
            "정대만      24       6   3\n",
            "강백호       3       4   1\n",
            "서태웅       9       1   6\n"
          ]
        }
      ]
    },
    {
      "cell_type": "code",
      "source": [
        "print(df1)\n",
        "df2 = df1.drop('강백호', axis=0, inplace = True)\n",
        "print(df2)\n",
        "print(df1)"
      ],
      "metadata": {
        "colab": {
          "base_uri": "https://localhost:8080/"
        },
        "id": "_m_LYmhmUNOt",
        "outputId": "7ed9cff7-c117-40f1-87c5-04790f3a329d"
      },
      "execution_count": 143,
      "outputs": [
        {
          "output_type": "stream",
          "name": "stdout",
          "text": [
            "     point3  point2  ft\n",
            "정대만      24       6   3\n",
            "강백호       3       4   1\n",
            "서태웅       9       1   6\n",
            "None\n",
            "     point3  point2  ft\n",
            "정대만      24       6   3\n",
            "서태웅       9       1   6\n"
          ]
        },
        {
          "output_type": "stream",
          "name": "stderr",
          "text": [
            "<ipython-input-143-fd35643a598e>:2: SettingWithCopyWarning: \n",
            "A value is trying to be set on a copy of a slice from a DataFrame\n",
            "\n",
            "See the caveats in the documentation: https://pandas.pydata.org/pandas-docs/stable/user_guide/indexing.html#returning-a-view-versus-a-copy\n",
            "  df2 = df1.drop('강백호', axis=0, inplace = True)\n"
          ]
        }
      ]
    },
    {
      "cell_type": "code",
      "source": [
        "# 사본 저장\n",
        "df1 = df[:]\n",
        "# 열 삭제 => axis = 0\n",
        "print(df1)\n",
        "df2 = df1.drop('ft', axis=1)\n",
        "print(df2)\n",
        "print(df1)\n",
        "df1.drop('ft', axis=1, inplace=True)\n",
        "print(df1)  #변경 후 = df1"
      ],
      "metadata": {
        "colab": {
          "base_uri": "https://localhost:8080/"
        },
        "id": "jlZKdE55SqCx",
        "outputId": "ee82da70-9f7c-45c3-e2ca-a1b8dfc666ae"
      },
      "execution_count": 144,
      "outputs": [
        {
          "output_type": "stream",
          "name": "stdout",
          "text": [
            "     point3  point2  ft\n",
            "정대만      24       6   3\n",
            "강백호       3       4   1\n",
            "서태웅       9       1   6\n",
            "     point3  point2\n",
            "정대만      24       6\n",
            "강백호       3       4\n",
            "서태웅       9       1\n",
            "     point3  point2  ft\n",
            "정대만      24       6   3\n",
            "강백호       3       4   1\n",
            "서태웅       9       1   6\n",
            "     point3  point2\n",
            "정대만      24       6\n",
            "강백호       3       4\n",
            "서태웅       9       1\n"
          ]
        },
        {
          "output_type": "stream",
          "name": "stderr",
          "text": [
            "<ipython-input-144-2a70195baee5>:8: SettingWithCopyWarning: \n",
            "A value is trying to be set on a copy of a slice from a DataFrame\n",
            "\n",
            "See the caveats in the documentation: https://pandas.pydata.org/pandas-docs/stable/user_guide/indexing.html#returning-a-view-versus-a-copy\n",
            "  df1.drop('ft', axis=1, inplace=True)\n"
          ]
        }
      ]
    },
    {
      "cell_type": "code",
      "source": [
        "# 여러 개의 행, 열 삭제 \n",
        "# 사본 저장\n",
        "# 사본 저장\n",
        "df1 = df[:]\n",
        "df1.drop('강백호', axis=0, inplace = True)\n",
        "print(df1)\n",
        "df1.drop('ft', axis=1, inplace = True)\n",
        "print(df1)"
      ],
      "metadata": {
        "colab": {
          "base_uri": "https://localhost:8080/"
        },
        "id": "T5b-IypkSp-E",
        "outputId": "a5a3401f-e6f5-4c22-a02a-5f165b05a59d"
      },
      "execution_count": 145,
      "outputs": [
        {
          "output_type": "stream",
          "name": "stdout",
          "text": [
            "     point3  point2  ft\n",
            "정대만      24       6   3\n",
            "서태웅       9       1   6\n",
            "     point3  point2\n",
            "정대만      24       6\n",
            "서태웅       9       1\n"
          ]
        },
        {
          "output_type": "stream",
          "name": "stderr",
          "text": [
            "<ipython-input-145-30386ffcc8f5>:5: SettingWithCopyWarning: \n",
            "A value is trying to be set on a copy of a slice from a DataFrame\n",
            "\n",
            "See the caveats in the documentation: https://pandas.pydata.org/pandas-docs/stable/user_guide/indexing.html#returning-a-view-versus-a-copy\n",
            "  df1.drop('강백호', axis=0, inplace = True)\n",
            "<ipython-input-145-30386ffcc8f5>:7: SettingWithCopyWarning: \n",
            "A value is trying to be set on a copy of a slice from a DataFrame\n",
            "\n",
            "See the caveats in the documentation: https://pandas.pydata.org/pandas-docs/stable/user_guide/indexing.html#returning-a-view-versus-a-copy\n",
            "  df1.drop('ft', axis=1, inplace = True)\n"
          ]
        }
      ]
    },
    {
      "cell_type": "code",
      "source": [
        "# 여러 개의 행, 열 삭제 \n",
        "# 사본 저장\n",
        "# 사본 저장\n",
        "df1 = df[:]\n",
        "df1.drop(['강백호','서태웅'], axis=0, inplace = True)\n",
        "print(df1)\n",
        "df"
      ],
      "metadata": {
        "colab": {
          "base_uri": "https://localhost:8080/",
          "height": 290
        },
        "id": "rJojE6CXSp7U",
        "outputId": "dfb420b8-81a6-4cd0-d740-0165d5de5cd1"
      },
      "execution_count": 146,
      "outputs": [
        {
          "output_type": "stream",
          "name": "stdout",
          "text": [
            "     point3  point2  ft\n",
            "정대만      24       6   3\n"
          ]
        },
        {
          "output_type": "stream",
          "name": "stderr",
          "text": [
            "<ipython-input-146-51705325d8c1>:5: SettingWithCopyWarning: \n",
            "A value is trying to be set on a copy of a slice from a DataFrame\n",
            "\n",
            "See the caveats in the documentation: https://pandas.pydata.org/pandas-docs/stable/user_guide/indexing.html#returning-a-view-versus-a-copy\n",
            "  df1.drop(['강백호','서태웅'], axis=0, inplace = True)\n"
          ]
        },
        {
          "output_type": "execute_result",
          "data": {
            "text/plain": [
              "     point3  point2  ft\n",
              "정대만      24       6   3\n",
              "강백호       3       4   1\n",
              "서태웅       9       1   6"
            ],
            "text/html": [
              "\n",
              "  <div id=\"df-96daf423-31ff-4464-bef1-d6e448d959a4\">\n",
              "    <div class=\"colab-df-container\">\n",
              "      <div>\n",
              "<style scoped>\n",
              "    .dataframe tbody tr th:only-of-type {\n",
              "        vertical-align: middle;\n",
              "    }\n",
              "\n",
              "    .dataframe tbody tr th {\n",
              "        vertical-align: top;\n",
              "    }\n",
              "\n",
              "    .dataframe thead th {\n",
              "        text-align: right;\n",
              "    }\n",
              "</style>\n",
              "<table border=\"1\" class=\"dataframe\">\n",
              "  <thead>\n",
              "    <tr style=\"text-align: right;\">\n",
              "      <th></th>\n",
              "      <th>point3</th>\n",
              "      <th>point2</th>\n",
              "      <th>ft</th>\n",
              "    </tr>\n",
              "  </thead>\n",
              "  <tbody>\n",
              "    <tr>\n",
              "      <th>정대만</th>\n",
              "      <td>24</td>\n",
              "      <td>6</td>\n",
              "      <td>3</td>\n",
              "    </tr>\n",
              "    <tr>\n",
              "      <th>강백호</th>\n",
              "      <td>3</td>\n",
              "      <td>4</td>\n",
              "      <td>1</td>\n",
              "    </tr>\n",
              "    <tr>\n",
              "      <th>서태웅</th>\n",
              "      <td>9</td>\n",
              "      <td>1</td>\n",
              "      <td>6</td>\n",
              "    </tr>\n",
              "  </tbody>\n",
              "</table>\n",
              "</div>\n",
              "      <button class=\"colab-df-convert\" onclick=\"convertToInteractive('df-96daf423-31ff-4464-bef1-d6e448d959a4')\"\n",
              "              title=\"Convert this dataframe to an interactive table.\"\n",
              "              style=\"display:none;\">\n",
              "        \n",
              "  <svg xmlns=\"http://www.w3.org/2000/svg\" height=\"24px\"viewBox=\"0 0 24 24\"\n",
              "       width=\"24px\">\n",
              "    <path d=\"M0 0h24v24H0V0z\" fill=\"none\"/>\n",
              "    <path d=\"M18.56 5.44l.94 2.06.94-2.06 2.06-.94-2.06-.94-.94-2.06-.94 2.06-2.06.94zm-11 1L8.5 8.5l.94-2.06 2.06-.94-2.06-.94L8.5 2.5l-.94 2.06-2.06.94zm10 10l.94 2.06.94-2.06 2.06-.94-2.06-.94-.94-2.06-.94 2.06-2.06.94z\"/><path d=\"M17.41 7.96l-1.37-1.37c-.4-.4-.92-.59-1.43-.59-.52 0-1.04.2-1.43.59L10.3 9.45l-7.72 7.72c-.78.78-.78 2.05 0 2.83L4 21.41c.39.39.9.59 1.41.59.51 0 1.02-.2 1.41-.59l7.78-7.78 2.81-2.81c.8-.78.8-2.07 0-2.86zM5.41 20L4 18.59l7.72-7.72 1.47 1.35L5.41 20z\"/>\n",
              "  </svg>\n",
              "      </button>\n",
              "      \n",
              "  <style>\n",
              "    .colab-df-container {\n",
              "      display:flex;\n",
              "      flex-wrap:wrap;\n",
              "      gap: 12px;\n",
              "    }\n",
              "\n",
              "    .colab-df-convert {\n",
              "      background-color: #E8F0FE;\n",
              "      border: none;\n",
              "      border-radius: 50%;\n",
              "      cursor: pointer;\n",
              "      display: none;\n",
              "      fill: #1967D2;\n",
              "      height: 32px;\n",
              "      padding: 0 0 0 0;\n",
              "      width: 32px;\n",
              "    }\n",
              "\n",
              "    .colab-df-convert:hover {\n",
              "      background-color: #E2EBFA;\n",
              "      box-shadow: 0px 1px 2px rgba(60, 64, 67, 0.3), 0px 1px 3px 1px rgba(60, 64, 67, 0.15);\n",
              "      fill: #174EA6;\n",
              "    }\n",
              "\n",
              "    [theme=dark] .colab-df-convert {\n",
              "      background-color: #3B4455;\n",
              "      fill: #D2E3FC;\n",
              "    }\n",
              "\n",
              "    [theme=dark] .colab-df-convert:hover {\n",
              "      background-color: #434B5C;\n",
              "      box-shadow: 0px 1px 3px 1px rgba(0, 0, 0, 0.15);\n",
              "      filter: drop-shadow(0px 1px 2px rgba(0, 0, 0, 0.3));\n",
              "      fill: #FFFFFF;\n",
              "    }\n",
              "  </style>\n",
              "\n",
              "      <script>\n",
              "        const buttonEl =\n",
              "          document.querySelector('#df-96daf423-31ff-4464-bef1-d6e448d959a4 button.colab-df-convert');\n",
              "        buttonEl.style.display =\n",
              "          google.colab.kernel.accessAllowed ? 'block' : 'none';\n",
              "\n",
              "        async function convertToInteractive(key) {\n",
              "          const element = document.querySelector('#df-96daf423-31ff-4464-bef1-d6e448d959a4');\n",
              "          const dataTable =\n",
              "            await google.colab.kernel.invokeFunction('convertToInteractive',\n",
              "                                                     [key], {});\n",
              "          if (!dataTable) return;\n",
              "\n",
              "          const docLinkHtml = 'Like what you see? Visit the ' +\n",
              "            '<a target=\"_blank\" href=https://colab.research.google.com/notebooks/data_table.ipynb>data table notebook</a>'\n",
              "            + ' to learn more about interactive tables.';\n",
              "          element.innerHTML = '';\n",
              "          dataTable['output_type'] = 'display_data';\n",
              "          await google.colab.output.renderOutput(dataTable, element);\n",
              "          const docLink = document.createElement('div');\n",
              "          docLink.innerHTML = docLinkHtml;\n",
              "          element.appendChild(docLink);\n",
              "        }\n",
              "      </script>\n",
              "    </div>\n",
              "  </div>\n",
              "  "
            ]
          },
          "metadata": {},
          "execution_count": 146
        }
      ]
    },
    {
      "cell_type": "code",
      "source": [
        "score_dict = {\n",
        "      'point3' :[24,3,9],\n",
        "      'point2' : [6,4,1],\n",
        "      'ft' : [3,1,6]\n",
        "}\n",
        "print(score_dict)"
      ],
      "metadata": {
        "colab": {
          "base_uri": "https://localhost:8080/"
        },
        "id": "QkDTbrhPSpzW",
        "outputId": "fe502147-b4ae-4995-c5fd-741bf17dfc1e"
      },
      "execution_count": 147,
      "outputs": [
        {
          "output_type": "stream",
          "name": "stdout",
          "text": [
            "{'point3': [24, 3, 9], 'point2': [6, 4, 1], 'ft': [3, 1, 6]}\n"
          ]
        }
      ]
    },
    {
      "cell_type": "code",
      "source": [
        "# 딕셔너리를 데이터프레임으로 변환 \n",
        "df = pd.DataFrame(score_dict, index = ['정대만','강백호','서태웅'])\n",
        "print(df)"
      ],
      "metadata": {
        "colab": {
          "base_uri": "https://localhost:8080/"
        },
        "id": "pbfkPfaDW2vk",
        "outputId": "6bd6253f-4514-4f61-dae0-dc9c60bce9f8"
      },
      "execution_count": 148,
      "outputs": [
        {
          "output_type": "stream",
          "name": "stdout",
          "text": [
            "     point3  point2  ft\n",
            "정대만      24       6   3\n",
            "강백호       3       4   1\n",
            "서태웅       9       1   6\n"
          ]
        }
      ]
    },
    {
      "cell_type": "code",
      "source": [
        "# loc 인덱서 =이름 \n",
        "print(df.loc['정대만']) # 시리즈\n",
        "print(df.loc[['정대만']]) # 데이터프레임 "
      ],
      "metadata": {
        "colab": {
          "base_uri": "https://localhost:8080/"
        },
        "id": "f1Nvq9I2XCTc",
        "outputId": "ad00e9f3-77a9-4bff-d22e-376a7bfb16c7"
      },
      "execution_count": 149,
      "outputs": [
        {
          "output_type": "stream",
          "name": "stdout",
          "text": [
            "point3    24\n",
            "point2     6\n",
            "ft         3\n",
            "Name: 정대만, dtype: int64\n",
            "     point3  point2  ft\n",
            "정대만      24       6   3\n"
          ]
        }
      ]
    },
    {
      "cell_type": "code",
      "source": [
        "type(df.loc['정대만']) # 시리즈\n"
      ],
      "metadata": {
        "colab": {
          "base_uri": "https://localhost:8080/"
        },
        "id": "PI_DtSEpXML8",
        "outputId": "83002069-c302-439a-dc4f-90e370529cbb"
      },
      "execution_count": 150,
      "outputs": [
        {
          "output_type": "execute_result",
          "data": {
            "text/plain": [
              "pandas.core.series.Series"
            ]
          },
          "metadata": {},
          "execution_count": 150
        }
      ]
    },
    {
      "cell_type": "code",
      "source": [
        "# iloc 인덱서 = 숫자 \n",
        "print(df.iloc[0])# 시리즈 \n",
        "print(df.iloc[[0]]) #데이터프레임 "
      ],
      "metadata": {
        "colab": {
          "base_uri": "https://localhost:8080/"
        },
        "id": "pgU0NdvgYXZk",
        "outputId": "1da598ac-ddd2-4844-e6a4-85c7eafc4ead"
      },
      "execution_count": 151,
      "outputs": [
        {
          "output_type": "stream",
          "name": "stdout",
          "text": [
            "point3    24\n",
            "point2     6\n",
            "ft         3\n",
            "Name: 정대만, dtype: int64\n",
            "     point3  point2  ft\n",
            "정대만      24       6   3\n"
          ]
        }
      ]
    },
    {
      "cell_type": "code",
      "source": [
        "# 여러개의 행 선택 \n",
        "print(df.loc[['정대만', '서태웅']]) #데이터프레임\n",
        "print(df.iloc[[0,2]]) # 데이터프레임\n"
      ],
      "metadata": {
        "colab": {
          "base_uri": "https://localhost:8080/"
        },
        "id": "4Ra814P2Yiou",
        "outputId": "e1292883-b047-4aa8-b102-174c85d62a96"
      },
      "execution_count": 152,
      "outputs": [
        {
          "output_type": "stream",
          "name": "stdout",
          "text": [
            "     point3  point2  ft\n",
            "정대만      24       6   3\n",
            "서태웅       9       1   6\n",
            "     point3  point2  ft\n",
            "정대만      24       6   3\n",
            "서태웅       9       1   6\n"
          ]
        }
      ]
    },
    {
      "cell_type": "code",
      "source": [
        "# 여러개의 행 선택 ( 범위 지정: 슬라이싱)\n",
        "print(df.loc['강백호':'서태웅']) # 데이터프레임\n",
        "print(df.iloc[0:2]) # 데이터프레임 "
      ],
      "metadata": {
        "colab": {
          "base_uri": "https://localhost:8080/"
        },
        "id": "-VRSUzSxY0LT",
        "outputId": "e40c5d7f-d8ac-4e7e-bcba-7b0395d428d0"
      },
      "execution_count": 153,
      "outputs": [
        {
          "output_type": "stream",
          "name": "stdout",
          "text": [
            "     point3  point2  ft\n",
            "강백호       3       4   1\n",
            "서태웅       9       1   6\n",
            "     point3  point2  ft\n",
            "정대만      24       6   3\n",
            "강백호       3       4   1\n"
          ]
        }
      ]
    },
    {
      "cell_type": "markdown",
      "source": [
        "### 열선택 "
      ],
      "metadata": {
        "id": "kfexroRHaHlu"
      }
    },
    {
      "cell_type": "code",
      "source": [
        "# 열 선택하는 방법 3가지 \n",
        "# 열 하나 선택 \n",
        "print(df['point3']) # 시리즈 \n",
        "print(df[['point3']]) # 데이터프레임  #\n",
        "print(df.point3) # 시리즈 \n",
        "# 여러 개의 열 선택\n",
        "print(df[['point3','ft']]) # 데이터프레임 "
      ],
      "metadata": {
        "colab": {
          "base_uri": "https://localhost:8080/"
        },
        "id": "Plc1e8vyaGhn",
        "outputId": "e8b9beab-0a8b-424f-bafd-2df76d1f2bc8"
      },
      "execution_count": 154,
      "outputs": [
        {
          "output_type": "stream",
          "name": "stdout",
          "text": [
            "정대만    24\n",
            "강백호     3\n",
            "서태웅     9\n",
            "Name: point3, dtype: int64\n",
            "     point3\n",
            "정대만      24\n",
            "강백호       3\n",
            "서태웅       9\n",
            "정대만    24\n",
            "강백호     3\n",
            "서태웅     9\n",
            "Name: point3, dtype: int64\n",
            "     point3  ft\n",
            "정대만      24   3\n",
            "강백호       3   1\n",
            "서태웅       9   6\n"
          ]
        }
      ]
    },
    {
      "cell_type": "markdown",
      "source": [
        "### 원소 선택 "
      ],
      "metadata": {
        "id": "_L2w8Z2abtWV"
      }
    },
    {
      "cell_type": "code",
      "source": [
        "# 행과 열을 동시에 선택 \n",
        "print(df)"
      ],
      "metadata": {
        "colab": {
          "base_uri": "https://localhost:8080/"
        },
        "id": "2ahtwp8jbZLN",
        "outputId": "51ebdbd2-d928-4a38-9a04-f4c60623cd74"
      },
      "execution_count": 155,
      "outputs": [
        {
          "output_type": "stream",
          "name": "stdout",
          "text": [
            "     point3  point2  ft\n",
            "정대만      24       6   3\n",
            "강백호       3       4   1\n",
            "서태웅       9       1   6\n"
          ]
        }
      ]
    },
    {
      "cell_type": "code",
      "source": [
        "# 행만 선택 \n",
        "print(df.loc['정대만'])\n",
        "print(df.iloc[0])"
      ],
      "metadata": {
        "colab": {
          "base_uri": "https://localhost:8080/"
        },
        "id": "I_1pDfzhaGfD",
        "outputId": "c73b834e-0d49-497a-bf9f-32f419b30c8a"
      },
      "execution_count": 156,
      "outputs": [
        {
          "output_type": "stream",
          "name": "stdout",
          "text": [
            "point3    24\n",
            "point2     6\n",
            "ft         3\n",
            "Name: 정대만, dtype: int64\n",
            "point3    24\n",
            "point2     6\n",
            "ft         3\n",
            "Name: 정대만, dtype: int64\n"
          ]
        }
      ]
    },
    {
      "cell_type": "code",
      "source": [
        "# 행과 열을 동시에 선택 => [행,열]\n",
        "print(df)"
      ],
      "metadata": {
        "colab": {
          "base_uri": "https://localhost:8080/"
        },
        "id": "Ih_lVAQ7c248",
        "outputId": "10c043c9-0612-40e5-ed6d-3ed3fa16f2b4"
      },
      "execution_count": 157,
      "outputs": [
        {
          "output_type": "stream",
          "name": "stdout",
          "text": [
            "     point3  point2  ft\n",
            "정대만      24       6   3\n",
            "강백호       3       4   1\n",
            "서태웅       9       1   6\n"
          ]
        }
      ]
    },
    {
      "cell_type": "code",
      "source": [
        "# 열 선택 = 모든 행  \n",
        "# [행, 열]\n",
        "print(df)\n",
        "print(df.loc[:,'point3'])\n",
        "print(df.iloc[0])"
      ],
      "metadata": {
        "colab": {
          "base_uri": "https://localhost:8080/"
        },
        "id": "29z73ji-aGbW",
        "outputId": "1d93de9a-323b-418e-d7d3-098c5283f91f"
      },
      "execution_count": 158,
      "outputs": [
        {
          "output_type": "stream",
          "name": "stdout",
          "text": [
            "     point3  point2  ft\n",
            "정대만      24       6   3\n",
            "강백호       3       4   1\n",
            "서태웅       9       1   6\n",
            "정대만    24\n",
            "강백호     3\n",
            "서태웅     9\n",
            "Name: point3, dtype: int64\n",
            "point3    24\n",
            "point2     6\n",
            "ft         3\n",
            "Name: 정대만, dtype: int64\n"
          ]
        }
      ]
    },
    {
      "cell_type": "code",
      "source": [
        "# 행과 열을 동시에 선택 \n",
        "print(df)\n",
        "print(df.loc['정대만','point3'])\n",
        "print(df.iloc[0,0])"
      ],
      "metadata": {
        "colab": {
          "base_uri": "https://localhost:8080/"
        },
        "id": "wJDxMiRTcn61",
        "outputId": "f460bcb7-6d8f-41fb-81e5-f3bb7787dc35"
      },
      "execution_count": 159,
      "outputs": [
        {
          "output_type": "stream",
          "name": "stdout",
          "text": [
            "     point3  point2  ft\n",
            "정대만      24       6   3\n",
            "강백호       3       4   1\n",
            "서태웅       9       1   6\n",
            "24\n",
            "24\n"
          ]
        }
      ]
    },
    {
      "cell_type": "code",
      "source": [
        "# 여러 개의 행과 하나의 열 선택 \n",
        "print(df.loc[['정대만','서태웅'],'point2'])\n",
        "print(df.iloc[[0,2],1])"
      ],
      "metadata": {
        "colab": {
          "base_uri": "https://localhost:8080/"
        },
        "id": "ZGYccYe4gLGU",
        "outputId": "2d4a0552-854e-4b87-c7ef-46212b4c60be"
      },
      "execution_count": 160,
      "outputs": [
        {
          "output_type": "stream",
          "name": "stdout",
          "text": [
            "정대만    6\n",
            "서태웅    1\n",
            "Name: point2, dtype: int64\n",
            "정대만    6\n",
            "서태웅    1\n",
            "Name: point2, dtype: int64\n"
          ]
        }
      ]
    },
    {
      "cell_type": "code",
      "source": [
        "#하나의 행과 여러 개의 열 선택 \n",
        "print(df.loc['정대만',['point3','ft']])\n",
        "print(df.iloc[0,[0,2]])"
      ],
      "metadata": {
        "colab": {
          "base_uri": "https://localhost:8080/"
        },
        "id": "2gHRYgjIg-WM",
        "outputId": "3706ea6c-5da2-4721-abc2-0fd7d1a9ab15"
      },
      "execution_count": 161,
      "outputs": [
        {
          "output_type": "stream",
          "name": "stdout",
          "text": [
            "point3    24\n",
            "ft         3\n",
            "Name: 정대만, dtype: int64\n",
            "point3    24\n",
            "ft         3\n",
            "Name: 정대만, dtype: int64\n"
          ]
        }
      ]
    },
    {
      "cell_type": "code",
      "source": [
        "# 여러 개의 행과 여러 개의 열 선택 \n",
        "print(df.loc[['정대만','서태웅'],['point3','ft']])\n",
        "print(df.iloc[[0,2],[0,2]])"
      ],
      "metadata": {
        "colab": {
          "base_uri": "https://localhost:8080/"
        },
        "id": "rwOD5gC-hQgF",
        "outputId": "84bb8d57-595b-4313-c1d4-4b4ecbdb55e4"
      },
      "execution_count": 162,
      "outputs": [
        {
          "output_type": "stream",
          "name": "stdout",
          "text": [
            "     point3  ft\n",
            "정대만      24   3\n",
            "서태웅       9   6\n",
            "     point3  ft\n",
            "정대만      24   3\n",
            "서태웅       9   6\n"
          ]
        }
      ]
    },
    {
      "cell_type": "code",
      "source": [
        "# 여러 개의 행과 여러 개의 열 선택 (슬라이싱)\n",
        "print(df.loc['정대만':'서태웅', 'point3':'ft'])\n",
        "print(df.iloc[0:3,0:3])\n",
        "print(df.iloc[0:3,0:2])"
      ],
      "metadata": {
        "colab": {
          "base_uri": "https://localhost:8080/"
        },
        "id": "nhdfpAx7hsd0",
        "outputId": "a455b14b-cdb0-4c3e-f7a8-88487681f5d5"
      },
      "execution_count": 163,
      "outputs": [
        {
          "output_type": "stream",
          "name": "stdout",
          "text": [
            "     point3  point2  ft\n",
            "정대만      24       6   3\n",
            "강백호       3       4   1\n",
            "서태웅       9       1   6\n",
            "     point3  point2  ft\n",
            "정대만      24       6   3\n",
            "강백호       3       4   1\n",
            "서태웅       9       1   6\n",
            "     point3  point2\n",
            "정대만      24       6\n",
            "강백호       3       4\n",
            "서태웅       9       1\n"
          ]
        }
      ]
    },
    {
      "cell_type": "markdown",
      "source": [
        "### 열추가"
      ],
      "metadata": {
        "id": "rsQpNgG1jx-V"
      }
    },
    {
      "cell_type": "code",
      "source": [
        "print(df)"
      ],
      "metadata": {
        "colab": {
          "base_uri": "https://localhost:8080/"
        },
        "id": "AqOWXLYJjxH9",
        "outputId": "f9dc06aa-16f1-4971-8da6-a9bb67d7d2eb"
      },
      "execution_count": 164,
      "outputs": [
        {
          "output_type": "stream",
          "name": "stdout",
          "text": [
            "     point3  point2  ft\n",
            "정대만      24       6   3\n",
            "강백호       3       4   1\n",
            "서태웅       9       1   6\n"
          ]
        }
      ]
    },
    {
      "cell_type": "code",
      "source": [
        "# 전부 같은 값을 가진 열 추가 \n",
        "df['foul'] =2\n",
        "print(df)"
      ],
      "metadata": {
        "colab": {
          "base_uri": "https://localhost:8080/"
        },
        "id": "kxt-ksFXjxDr",
        "outputId": "ed0f0120-7b6a-4aa1-b540-f82999cbd967"
      },
      "execution_count": 165,
      "outputs": [
        {
          "output_type": "stream",
          "name": "stdout",
          "text": [
            "     point3  point2  ft  foul\n",
            "정대만      24       6   3     2\n",
            "강백호       3       4   1     2\n",
            "서태웅       9       1   6     2\n"
          ]
        }
      ]
    },
    {
      "cell_type": "code",
      "source": [
        "# 다른 값을 가진 열 추가 = 리스트 형태 \n",
        "df['rebound'] = [1,2,3]\n",
        "print(df)"
      ],
      "metadata": {
        "colab": {
          "base_uri": "https://localhost:8080/"
        },
        "id": "vUPyvNtnkMam",
        "outputId": "c7d0bf3b-2ab4-4f11-c081-21cb607fb315"
      },
      "execution_count": 166,
      "outputs": [
        {
          "output_type": "stream",
          "name": "stdout",
          "text": [
            "     point3  point2  ft  foul  rebound\n",
            "정대만      24       6   3     2        1\n",
            "강백호       3       4   1     2        2\n",
            "서태웅       9       1   6     2        3\n"
          ]
        }
      ]
    },
    {
      "cell_type": "markdown",
      "source": [
        "### 행추가 "
      ],
      "metadata": {
        "id": "jyaqY1DikbV2"
      }
    },
    {
      "cell_type": "code",
      "source": [
        "df.loc['채치수'] = 0\n",
        "print(df)"
      ],
      "metadata": {
        "colab": {
          "base_uri": "https://localhost:8080/"
        },
        "id": "RCTUNYzNka_k",
        "outputId": "438cf2f8-293d-4e65-dcca-fb48b96c9b0e"
      },
      "execution_count": 167,
      "outputs": [
        {
          "output_type": "stream",
          "name": "stdout",
          "text": [
            "     point3  point2  ft  foul  rebound\n",
            "정대만      24       6   3     2        1\n",
            "강백호       3       4   1     2        2\n",
            "서태웅       9       1   6     2        3\n",
            "채치수       0       0   0     0        0\n"
          ]
        }
      ]
    },
    {
      "cell_type": "code",
      "source": [
        "df.loc['송태섭'] = [9,10,2,4,0]\n",
        "print(df)"
      ],
      "metadata": {
        "colab": {
          "base_uri": "https://localhost:8080/"
        },
        "id": "6T2jmA2MlFkk",
        "outputId": "d7abf106-f039-45a8-9dfe-0cefd673f3c4"
      },
      "execution_count": 168,
      "outputs": [
        {
          "output_type": "stream",
          "name": "stdout",
          "text": [
            "     point3  point2  ft  foul  rebound\n",
            "정대만      24       6   3     2        1\n",
            "강백호       3       4   1     2        2\n",
            "서태웅       9       1   6     2        3\n",
            "채치수       0       0   0     0        0\n",
            "송태섭       9      10   2     4        0\n"
          ]
        }
      ]
    },
    {
      "cell_type": "markdown",
      "source": [
        "### 원소값 변경 "
      ],
      "metadata": {
        "id": "tMVzycLXmIL2"
      }
    },
    {
      "cell_type": "code",
      "source": [
        "# 행과 열을 동시에 선택해서 값을 변경 \n",
        "print(df)"
      ],
      "metadata": {
        "colab": {
          "base_uri": "https://localhost:8080/"
        },
        "id": "cXOIDI3TmHcc",
        "outputId": "196b3c95-f012-4564-9e62-8d39f3b416d5"
      },
      "execution_count": 169,
      "outputs": [
        {
          "output_type": "stream",
          "name": "stdout",
          "text": [
            "     point3  point2  ft  foul  rebound\n",
            "정대만      24       6   3     2        1\n",
            "강백호       3       4   1     2        2\n",
            "서태웅       9       1   6     2        3\n",
            "채치수       0       0   0     0        0\n",
            "송태섭       9      10   2     4        0\n"
          ]
        }
      ]
    },
    {
      "cell_type": "code",
      "source": [
        "# 하나의 행과 하나의 열을 선택하여 값 변경 \n",
        "df.loc['채치수','rebound'] =5\n",
        "print(df)"
      ],
      "metadata": {
        "colab": {
          "base_uri": "https://localhost:8080/"
        },
        "id": "73AbKz8hmbfL",
        "outputId": "e6c283aa-76ea-4646-9219-0bb7c3395c46"
      },
      "execution_count": 170,
      "outputs": [
        {
          "output_type": "stream",
          "name": "stdout",
          "text": [
            "     point3  point2  ft  foul  rebound\n",
            "정대만      24       6   3     2        1\n",
            "강백호       3       4   1     2        2\n",
            "서태웅       9       1   6     2        3\n",
            "채치수       0       0   0     0        5\n",
            "송태섭       9      10   2     4        0\n"
          ]
        }
      ]
    },
    {
      "cell_type": "code",
      "source": [
        "df.iloc[4,4] =1\n",
        "print(df)"
      ],
      "metadata": {
        "colab": {
          "base_uri": "https://localhost:8080/"
        },
        "id": "-BrzHpphnUAT",
        "outputId": "8ebda139-3011-4260-993e-63bf65a7eee5"
      },
      "execution_count": 171,
      "outputs": [
        {
          "output_type": "stream",
          "name": "stdout",
          "text": [
            "     point3  point2  ft  foul  rebound\n",
            "정대만      24       6   3     2        1\n",
            "강백호       3       4   1     2        2\n",
            "서태웅       9       1   6     2        3\n",
            "채치수       0       0   0     0        5\n",
            "송태섭       9      10   2     4        1\n"
          ]
        }
      ]
    },
    {
      "cell_type": "code",
      "source": [
        "# 하나의 행과 여러 개의 열을 선택하여 값 변경 \n",
        "df.loc['채치수', ['point3','foul']]= 3\n",
        "print(df)"
      ],
      "metadata": {
        "colab": {
          "base_uri": "https://localhost:8080/"
        },
        "id": "g2qJo8CknZZG",
        "outputId": "d71634f0-66de-4b94-aa7d-c3ee17f70ae9"
      },
      "execution_count": 172,
      "outputs": [
        {
          "output_type": "stream",
          "name": "stdout",
          "text": [
            "     point3  point2  ft  foul  rebound\n",
            "정대만      24       6   3     2        1\n",
            "강백호       3       4   1     2        2\n",
            "서태웅       9       1   6     2        3\n",
            "채치수       3       0   0     3        5\n",
            "송태섭       9      10   2     4        1\n"
          ]
        }
      ]
    },
    {
      "cell_type": "code",
      "source": [
        "# 하나의 행과 여러 개의 열을 선택하여 값 변경 \n",
        "df.iloc[3, [1,3]]= 2\n",
        "print(df)"
      ],
      "metadata": {
        "colab": {
          "base_uri": "https://localhost:8080/"
        },
        "id": "VISA8Gipp_Ul",
        "outputId": "5a024489-0a19-4049-e7d1-0d734499a6c5"
      },
      "execution_count": 173,
      "outputs": [
        {
          "output_type": "stream",
          "name": "stdout",
          "text": [
            "     point3  point2  ft  foul  rebound\n",
            "정대만      24       6   3     2        1\n",
            "강백호       3       4   1     2        2\n",
            "서태웅       9       1   6     2        3\n",
            "채치수       3       2   0     2        5\n",
            "송태섭       9      10   2     4        1\n"
          ]
        }
      ]
    },
    {
      "cell_type": "code",
      "source": [
        "#여러 개의 행과 여러개의 열을 선택하여 값을 변경 \n",
        "df.iloc[[3,4], [1,3]]= 10\n",
        "print(df)"
      ],
      "metadata": {
        "colab": {
          "base_uri": "https://localhost:8080/"
        },
        "id": "mnoXdnVgoqa6",
        "outputId": "f0d9cb95-a9a0-4779-aa5e-f4ae51a5a758"
      },
      "execution_count": 175,
      "outputs": [
        {
          "output_type": "stream",
          "name": "stdout",
          "text": [
            "     point3  point2  ft  foul  rebound\n",
            "정대만      24       6   3     2        1\n",
            "강백호       3       4   1     2        2\n",
            "서태웅       9       1   6     2        3\n",
            "채치수       3      10   0    10        5\n",
            "송태섭       9      10   2    10        1\n"
          ]
        }
      ]
    },
    {
      "cell_type": "code",
      "source": [
        "#여러 개의 행과 여러개의 열을 선택하여 값을 변경 \n",
        "df.loc['강백호':'채치수', 'ft':'rebound']= 100\n",
        "print(df)"
      ],
      "metadata": {
        "colab": {
          "base_uri": "https://localhost:8080/"
        },
        "id": "eqnhW_oaqdea",
        "outputId": "2dffe60f-cad2-4149-86a7-729145ca8514"
      },
      "execution_count": 177,
      "outputs": [
        {
          "output_type": "stream",
          "name": "stdout",
          "text": [
            "     point3  point2   ft  foul  rebound\n",
            "정대만      24       6    3     2        1\n",
            "강백호       3       4  100   100      100\n",
            "서태웅       9       1  100   100      100\n",
            "채치수       3      10  100   100      100\n",
            "송태섭       9      10    2    10        1\n"
          ]
        }
      ]
    },
    {
      "cell_type": "code",
      "source": [
        "df.iloc[1:4,2:5 ]= 20\n",
        "print(df)"
      ],
      "metadata": {
        "colab": {
          "base_uri": "https://localhost:8080/"
        },
        "id": "2tRT-uuTqvp2",
        "outputId": "2aed06fc-39e9-496c-e175-803933439c11"
      },
      "execution_count": 179,
      "outputs": [
        {
          "output_type": "stream",
          "name": "stdout",
          "text": [
            "     point3  point2  ft  foul  rebound\n",
            "정대만      24       6   3     2        1\n",
            "강백호       3       4  20    20       20\n",
            "서태웅       9       1  20    20       20\n",
            "채치수       3      10  20    20       20\n",
            "송태섭       9      10   2    10        1\n"
          ]
        }
      ]
    },
    {
      "cell_type": "code",
      "source": [
        "# 다른 값으로 변경\n",
        "# 하나의 행과 여러개의 열을 선택하여 값 변경 \n",
        "df.loc['채치수',['point2','foul']] = [10,2]\n",
        "print(df)"
      ],
      "metadata": {
        "colab": {
          "base_uri": "https://localhost:8080/"
        },
        "id": "INJ7qeHMuCeb",
        "outputId": "d2ddfd4d-d776-4be7-8ad4-35b78fc5c02e"
      },
      "execution_count": 181,
      "outputs": [
        {
          "output_type": "stream",
          "name": "stdout",
          "text": [
            "     point3  point2  ft  foul  rebound\n",
            "정대만      24       6   3     2        1\n",
            "강백호       3       4  20    20       20\n",
            "서태웅       9       1  20    20       20\n",
            "채치수       3      10  20     2       20\n",
            "송태섭       9      10   2    10        1\n"
          ]
        }
      ]
    },
    {
      "cell_type": "code",
      "source": [
        "df.loc['채치수',['point2','foul']] = 2,1 \n",
        "print(df)"
      ],
      "metadata": {
        "colab": {
          "base_uri": "https://localhost:8080/"
        },
        "id": "5qt6Lq2iuiwc",
        "outputId": "1124af41-272e-402e-ebee-6c4c50dd032b"
      },
      "execution_count": 182,
      "outputs": [
        {
          "output_type": "stream",
          "name": "stdout",
          "text": [
            "     point3  point2  ft  foul  rebound\n",
            "정대만      24       6   3     2        1\n",
            "강백호       3       4  20    20       20\n",
            "서태웅       9       1  20    20       20\n",
            "채치수       3       2  20     1       20\n",
            "송태섭       9      10   2    10        1\n"
          ]
        }
      ]
    },
    {
      "cell_type": "code",
      "source": [
        "df.loc['채치수',['point2','foul']] = [3,5] \n",
        "print(df)"
      ],
      "metadata": {
        "colab": {
          "base_uri": "https://localhost:8080/"
        },
        "id": "2SVPvhCdwErD",
        "outputId": "77e18c62-22b4-4bd4-909b-c904125fb90b"
      },
      "execution_count": 185,
      "outputs": [
        {
          "output_type": "stream",
          "name": "stdout",
          "text": [
            "     point3  point2  ft  foul  rebound\n",
            "정대만      24       6   3     2        1\n",
            "강백호       3       4  20    20        3\n",
            "서태웅       9       1  20    20       20\n",
            "채치수       3       3  20     5        3\n",
            "송태섭       9      10   2    10        1\n"
          ]
        }
      ]
    },
    {
      "cell_type": "code",
      "source": [
        "# 여러 개의 행과 하나의 열을 선택하여 값 변경\n",
        "df.loc[['강백호','채치수'],'rebound'] =4\n",
        "print(df)"
      ],
      "metadata": {
        "colab": {
          "base_uri": "https://localhost:8080/"
        },
        "id": "jWKlw1o0u-OH",
        "outputId": "5f2062d4-4fe6-4e69-8037-cb09a8d22105"
      },
      "execution_count": 183,
      "outputs": [
        {
          "output_type": "stream",
          "name": "stdout",
          "text": [
            "     point3  point2  ft  foul  rebound\n",
            "정대만      24       6   3     2        1\n",
            "강백호       3       4  20    20        4\n",
            "서태웅       9       1  20    20       20\n",
            "채치수       3       2  20     1        4\n",
            "송태섭       9      10   2    10        1\n"
          ]
        }
      ]
    },
    {
      "cell_type": "code",
      "source": [
        "# 여러 개의 행과 하나의 열을 선택하여 값 변경\n",
        "df.loc[['강백호','채치수'],'rebound'] =[5,5]\n",
        "print(df)"
      ],
      "metadata": {
        "colab": {
          "base_uri": "https://localhost:8080/"
        },
        "id": "aFQL115NwPoD",
        "outputId": "d59c6c4b-6e9d-4a56-d52e-5fcc44e17e49"
      },
      "execution_count": 186,
      "outputs": [
        {
          "output_type": "stream",
          "name": "stdout",
          "text": [
            "     point3  point2  ft  foul  rebound\n",
            "정대만      24       6   3     2        1\n",
            "강백호       3       4  20    20        5\n",
            "서태웅       9       1  20    20       20\n",
            "채치수       3       3  20     5        5\n",
            "송태섭       9      10   2    10        1\n"
          ]
        }
      ]
    },
    {
      "cell_type": "code",
      "source": [
        "df.iloc[[1,3],4] = 3\n",
        "print(df)"
      ],
      "metadata": {
        "colab": {
          "base_uri": "https://localhost:8080/"
        },
        "id": "dL6M4K6gvqaT",
        "outputId": "f23f8bb7-f4cc-4dba-b828-2a661d095489"
      },
      "execution_count": 184,
      "outputs": [
        {
          "output_type": "stream",
          "name": "stdout",
          "text": [
            "     point3  point2  ft  foul  rebound\n",
            "정대만      24       6   3     2        1\n",
            "강백호       3       4  20    20        3\n",
            "서태웅       9       1  20    20       20\n",
            "채치수       3       2  20     1        3\n",
            "송태섭       9      10   2    10        1\n"
          ]
        }
      ]
    },
    {
      "cell_type": "code",
      "source": [
        "df.iloc[1,[1,4]] = [22,44]\n",
        "print(df)"
      ],
      "metadata": {
        "colab": {
          "base_uri": "https://localhost:8080/"
        },
        "id": "GFbuQMiVwWCz",
        "outputId": "7ece4f39-c9ed-4843-c0da-3f78bd8302ad"
      },
      "execution_count": 187,
      "outputs": [
        {
          "output_type": "stream",
          "name": "stdout",
          "text": [
            "     point3  point2  ft  foul  rebound\n",
            "정대만      24       6   3     2        1\n",
            "강백호       3      22  20    20       44\n",
            "서태웅       9       1  20    20       20\n",
            "채치수       3       3  20     5        5\n",
            "송태섭       9      10   2    10        1\n"
          ]
        }
      ]
    },
    {
      "cell_type": "code",
      "source": [
        "# 여러개의 행과 여러 개의 열을 선택하여 값을 변경 \n",
        "df.loc[['채치수', '송태섭'],['point3','point2']] =[0,8],[9,8]\n",
        "print(df)"
      ],
      "metadata": {
        "colab": {
          "base_uri": "https://localhost:8080/"
        },
        "id": "6qufZ4rdxGAE",
        "outputId": "e3f17e7c-9194-4626-be4a-7a9090e8a185"
      },
      "execution_count": 189,
      "outputs": [
        {
          "output_type": "stream",
          "name": "stdout",
          "text": [
            "     point3  point2  ft  foul  rebound\n",
            "정대만      24       6   3     2        1\n",
            "강백호       3      22  20    20       44\n",
            "서태웅       9       1  20    20       20\n",
            "채치수       0       8  20     5        5\n",
            "송태섭       9       8   2    10        1\n"
          ]
        }
      ]
    },
    {
      "cell_type": "code",
      "source": [
        "# 여러개의 행과 여러 개의 열을 선택하여 값을 변경 \n",
        "df.iloc[[3,4],[0,1]] =[0,8],[9,8]\n",
        "print(df)"
      ],
      "metadata": {
        "colab": {
          "base_uri": "https://localhost:8080/"
        },
        "id": "Qkua1Ivpx52J",
        "outputId": "6320de56-320e-4792-d882-c5c2accf373c"
      },
      "execution_count": 190,
      "outputs": [
        {
          "output_type": "stream",
          "name": "stdout",
          "text": [
            "     point3  point2  ft  foul  rebound\n",
            "정대만      24       6   3     2        1\n",
            "강백호       3      22  20    20       44\n",
            "서태웅       9       1  20    20       20\n",
            "채치수       0       8  20     5        5\n",
            "송태섭       9       8   2    10        1\n"
          ]
        }
      ]
    },
    {
      "cell_type": "code",
      "source": [
        "print(df.T)"
      ],
      "metadata": {
        "colab": {
          "base_uri": "https://localhost:8080/"
        },
        "id": "PgEEl_iBzQqS",
        "outputId": "39380288-96c9-4597-dcb6-1749d2b53c1b"
      },
      "execution_count": 191,
      "outputs": [
        {
          "output_type": "stream",
          "name": "stdout",
          "text": [
            "         정대만  강백호  서태웅  채치수  송태섭\n",
            "point3    24    3    9    0    9\n",
            "point2     6   22    1    8    8\n",
            "ft         3   20   20   20    2\n",
            "foul       2   20   20    5   10\n",
            "rebound    1   44   20    5    1\n"
          ]
        }
      ]
    },
    {
      "cell_type": "code",
      "source": [
        "print(df.transpose())"
      ],
      "metadata": {
        "colab": {
          "base_uri": "https://localhost:8080/"
        },
        "id": "_00aoC1_zTzl",
        "outputId": "7e3026f7-8882-4afc-9409-3ad8fc7c0200"
      },
      "execution_count": 192,
      "outputs": [
        {
          "output_type": "stream",
          "name": "stdout",
          "text": [
            "         정대만  강백호  서태웅  채치수  송태섭\n",
            "point3    24    3    9    0    9\n",
            "point2     6   22    1    8    8\n",
            "ft         3   20   20   20    2\n",
            "foul       2   20   20    5   10\n",
            "rebound    1   44   20    5    1\n"
          ]
        }
      ]
    },
    {
      "cell_type": "markdown",
      "source": [
        "### 인덱스 활용 "
      ],
      "metadata": {
        "id": "0DSeZSfOzfbt"
      }
    },
    {
      "cell_type": "code",
      "source": [
        "import pandas as pd\n"
      ],
      "metadata": {
        "id": "xJuS87Ib0XrV"
      },
      "execution_count": 194,
      "outputs": []
    },
    {
      "cell_type": "code",
      "source": [
        "sd ={\n",
        "    \"이름\" : ['정대만', '강백호' ,'채치수'],\n",
        "     \"키\" : [184,189,193] ,\n",
        "     \"나이\" : [19,17,19],\n",
        "     \"득점\" : [28,1,20]\n",
        "}"
      ],
      "metadata": {
        "id": "kvuvCYPN0bIg"
      },
      "execution_count": 195,
      "outputs": []
    },
    {
      "cell_type": "code",
      "source": [
        "df = pd.DataFrame(sd)\n",
        "print(df)"
      ],
      "metadata": {
        "colab": {
          "base_uri": "https://localhost:8080/"
        },
        "id": "L--cvbA30vVA",
        "outputId": "0aea4d94-adf3-4923-cfd6-24d285d45fc4"
      },
      "execution_count": 200,
      "outputs": [
        {
          "output_type": "stream",
          "name": "stdout",
          "text": [
            "    이름    키  나이  득점\n",
            "0  정대만  184  19  28\n",
            "1  강백호  189  17   1\n",
            "2  채치수  193  19  20\n"
          ]
        }
      ]
    },
    {
      "cell_type": "markdown",
      "source": [
        "### 특정 열을 행 인덱스로 설정 "
      ],
      "metadata": {
        "id": "XVbcpI_GJhs9"
      }
    },
    {
      "cell_type": "code",
      "source": [
        "df_new = df.set_index('이름')"
      ],
      "metadata": {
        "colab": {
          "base_uri": "https://localhost:8080/",
          "height": 174
        },
        "id": "FL5jmFMj1H58",
        "outputId": "b65cb090-9edb-4c6b-eaf2-c3d667ce092e"
      },
      "execution_count": 197,
      "outputs": [
        {
          "output_type": "execute_result",
          "data": {
            "text/plain": [
              "       키  나이  득점\n",
              "이름              \n",
              "정대만  184  19  28\n",
              "강백호  189  17   1\n",
              "채치수  193  19  20"
            ],
            "text/html": [
              "\n",
              "  <div id=\"df-33755632-530f-4c45-8d1a-d60ba2ac08fc\">\n",
              "    <div class=\"colab-df-container\">\n",
              "      <div>\n",
              "<style scoped>\n",
              "    .dataframe tbody tr th:only-of-type {\n",
              "        vertical-align: middle;\n",
              "    }\n",
              "\n",
              "    .dataframe tbody tr th {\n",
              "        vertical-align: top;\n",
              "    }\n",
              "\n",
              "    .dataframe thead th {\n",
              "        text-align: right;\n",
              "    }\n",
              "</style>\n",
              "<table border=\"1\" class=\"dataframe\">\n",
              "  <thead>\n",
              "    <tr style=\"text-align: right;\">\n",
              "      <th></th>\n",
              "      <th>키</th>\n",
              "      <th>나이</th>\n",
              "      <th>득점</th>\n",
              "    </tr>\n",
              "    <tr>\n",
              "      <th>이름</th>\n",
              "      <th></th>\n",
              "      <th></th>\n",
              "      <th></th>\n",
              "    </tr>\n",
              "  </thead>\n",
              "  <tbody>\n",
              "    <tr>\n",
              "      <th>정대만</th>\n",
              "      <td>184</td>\n",
              "      <td>19</td>\n",
              "      <td>28</td>\n",
              "    </tr>\n",
              "    <tr>\n",
              "      <th>강백호</th>\n",
              "      <td>189</td>\n",
              "      <td>17</td>\n",
              "      <td>1</td>\n",
              "    </tr>\n",
              "    <tr>\n",
              "      <th>채치수</th>\n",
              "      <td>193</td>\n",
              "      <td>19</td>\n",
              "      <td>20</td>\n",
              "    </tr>\n",
              "  </tbody>\n",
              "</table>\n",
              "</div>\n",
              "      <button class=\"colab-df-convert\" onclick=\"convertToInteractive('df-33755632-530f-4c45-8d1a-d60ba2ac08fc')\"\n",
              "              title=\"Convert this dataframe to an interactive table.\"\n",
              "              style=\"display:none;\">\n",
              "        \n",
              "  <svg xmlns=\"http://www.w3.org/2000/svg\" height=\"24px\"viewBox=\"0 0 24 24\"\n",
              "       width=\"24px\">\n",
              "    <path d=\"M0 0h24v24H0V0z\" fill=\"none\"/>\n",
              "    <path d=\"M18.56 5.44l.94 2.06.94-2.06 2.06-.94-2.06-.94-.94-2.06-.94 2.06-2.06.94zm-11 1L8.5 8.5l.94-2.06 2.06-.94-2.06-.94L8.5 2.5l-.94 2.06-2.06.94zm10 10l.94 2.06.94-2.06 2.06-.94-2.06-.94-.94-2.06-.94 2.06-2.06.94z\"/><path d=\"M17.41 7.96l-1.37-1.37c-.4-.4-.92-.59-1.43-.59-.52 0-1.04.2-1.43.59L10.3 9.45l-7.72 7.72c-.78.78-.78 2.05 0 2.83L4 21.41c.39.39.9.59 1.41.59.51 0 1.02-.2 1.41-.59l7.78-7.78 2.81-2.81c.8-.78.8-2.07 0-2.86zM5.41 20L4 18.59l7.72-7.72 1.47 1.35L5.41 20z\"/>\n",
              "  </svg>\n",
              "      </button>\n",
              "      \n",
              "  <style>\n",
              "    .colab-df-container {\n",
              "      display:flex;\n",
              "      flex-wrap:wrap;\n",
              "      gap: 12px;\n",
              "    }\n",
              "\n",
              "    .colab-df-convert {\n",
              "      background-color: #E8F0FE;\n",
              "      border: none;\n",
              "      border-radius: 50%;\n",
              "      cursor: pointer;\n",
              "      display: none;\n",
              "      fill: #1967D2;\n",
              "      height: 32px;\n",
              "      padding: 0 0 0 0;\n",
              "      width: 32px;\n",
              "    }\n",
              "\n",
              "    .colab-df-convert:hover {\n",
              "      background-color: #E2EBFA;\n",
              "      box-shadow: 0px 1px 2px rgba(60, 64, 67, 0.3), 0px 1px 3px 1px rgba(60, 64, 67, 0.15);\n",
              "      fill: #174EA6;\n",
              "    }\n",
              "\n",
              "    [theme=dark] .colab-df-convert {\n",
              "      background-color: #3B4455;\n",
              "      fill: #D2E3FC;\n",
              "    }\n",
              "\n",
              "    [theme=dark] .colab-df-convert:hover {\n",
              "      background-color: #434B5C;\n",
              "      box-shadow: 0px 1px 3px 1px rgba(0, 0, 0, 0.15);\n",
              "      filter: drop-shadow(0px 1px 2px rgba(0, 0, 0, 0.3));\n",
              "      fill: #FFFFFF;\n",
              "    }\n",
              "  </style>\n",
              "\n",
              "      <script>\n",
              "        const buttonEl =\n",
              "          document.querySelector('#df-33755632-530f-4c45-8d1a-d60ba2ac08fc button.colab-df-convert');\n",
              "        buttonEl.style.display =\n",
              "          google.colab.kernel.accessAllowed ? 'block' : 'none';\n",
              "\n",
              "        async function convertToInteractive(key) {\n",
              "          const element = document.querySelector('#df-33755632-530f-4c45-8d1a-d60ba2ac08fc');\n",
              "          const dataTable =\n",
              "            await google.colab.kernel.invokeFunction('convertToInteractive',\n",
              "                                                     [key], {});\n",
              "          if (!dataTable) return;\n",
              "\n",
              "          const docLinkHtml = 'Like what you see? Visit the ' +\n",
              "            '<a target=\"_blank\" href=https://colab.research.google.com/notebooks/data_table.ipynb>data table notebook</a>'\n",
              "            + ' to learn more about interactive tables.';\n",
              "          element.innerHTML = '';\n",
              "          dataTable['output_type'] = 'display_data';\n",
              "          await google.colab.output.renderOutput(dataTable, element);\n",
              "          const docLink = document.createElement('div');\n",
              "          docLink.innerHTML = docLinkHtml;\n",
              "          element.appendChild(docLink);\n",
              "        }\n",
              "      </script>\n",
              "    </div>\n",
              "  </div>\n",
              "  "
            ]
          },
          "metadata": {},
          "execution_count": 197
        }
      ]
    },
    {
      "cell_type": "code",
      "source": [
        "print(df_new)\n",
        "#원래 행 인덱스(정수)가 없어지고 이름 열이 행 인덱스가 됨 "
      ],
      "metadata": {
        "colab": {
          "base_uri": "https://localhost:8080/"
        },
        "id": "GDQV-jXn1H2b",
        "outputId": "0e608d29-c443-438e-b428-e3a65dae3228"
      },
      "execution_count": 203,
      "outputs": [
        {
          "output_type": "stream",
          "name": "stdout",
          "text": [
            "      이름  나이    키\n",
            "선수1  정대만  19  184\n",
            "선수2  서태웅  17  180\n"
          ]
        }
      ]
    },
    {
      "cell_type": "code",
      "source": [
        "\n",
        "print(df_new)\n",
        "df_new2 = df.set_index('키')\n",
        "print(df_new2)\n",
        "# 키 열이 행 인덱스가 되고, 행 인덱스였던 이름 열이 다시 열로 돌아옴 "
      ],
      "metadata": {
        "colab": {
          "base_uri": "https://localhost:8080/"
        },
        "id": "DnPKC6CM1HyZ",
        "outputId": "5a848c0b-cd70-46d4-c6dd-07c7084899bf"
      },
      "execution_count": 204,
      "outputs": [
        {
          "output_type": "stream",
          "name": "stdout",
          "text": [
            "      이름  나이    키\n",
            "선수1  정대만  19  184\n",
            "선수2  서태웅  17  180\n",
            "      이름  나이  득점\n",
            "키               \n",
            "184  정대만  19  28\n",
            "189  강백호  17   1\n",
            "193  채치수  19  20\n"
          ]
        }
      ]
    },
    {
      "cell_type": "code",
      "source": [
        "print(df)\n",
        "df_new = df.set_index(['이름', '키'])\n",
        "print(df_new)\n",
        "# 키 열이 행 인덱스가 되고, 행 인덱스였던 이름 열이 다시 열로 돌아옴 "
      ],
      "metadata": {
        "colab": {
          "base_uri": "https://localhost:8080/"
        },
        "id": "Fmaw-qvv3IHs",
        "outputId": "ced362d0-0ff6-45ff-ea0b-048184a5374f"
      },
      "execution_count": 206,
      "outputs": [
        {
          "output_type": "stream",
          "name": "stdout",
          "text": [
            "    이름    키  나이  득점\n",
            "0  정대만  184  19  28\n",
            "1  강백호  189  17   1\n",
            "2  채치수  193  19  20\n",
            "         나이  득점\n",
            "이름  키          \n",
            "정대만 184  19  28\n",
            "강백호 189  17   1\n",
            "채치수 193  19  20\n"
          ]
        }
      ]
    },
    {
      "cell_type": "code",
      "source": [],
      "metadata": {
        "id": "gzanZMnV27c5"
      },
      "execution_count": null,
      "outputs": []
    },
    {
      "cell_type": "code",
      "source": [],
      "metadata": {
        "id": "B98ECey21HwM"
      },
      "execution_count": null,
      "outputs": []
    }
  ]
}